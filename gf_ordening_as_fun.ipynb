{
 "cells": [
  {
   "cell_type": "code",
   "execution_count": 55,
   "metadata": {},
   "outputs": [],
   "source": [
    "import numpy as np\n",
    "import pandas as pd\n"
   ]
  },
  {
   "cell_type": "code",
   "execution_count": 86,
   "metadata": {},
   "outputs": [],
   "source": [
    "# Functions from \"dot\" to \"pnt2line\" were inspired in the \n",
    "# \"Shortest Distance from a Point to a Line\" project: \n",
    "# http://www.fundza.com/vectors/point2line/index.html\n",
    "\n",
    "def pnt2line(pnt, start, end):\n",
    "    \"\"\" \n",
    "    Calcula la distancia mínima entre un punto y una recta\n",
    "\n",
    "    Esta distancia mínima puede ser:\n",
    "        - La distancia ortogonal entre el punto y la recta \n",
    "        - La distancia entre el punto y el inicio de la recta\n",
    "        - La distancia entre el punto y el final de la recta\n",
    "\n",
    "    Parameters\n",
    "    ----------\n",
    "    pnt: np.array\n",
    "        coordenadas en el plano cartesiano del punto\n",
    "    start: np.array\n",
    "        coordenadas en el plano cartesiano del inicio de la recta\n",
    "    end: np.array\n",
    "        coordenadas en el plano cartesiano del final de la recta\n",
    "\n",
    "    Returns\n",
    "    -------\n",
    "    dist: Valor escalar\n",
    "        Distancia mínima calculada entre el punto y la recta\n",
    "    nearest: np.array\n",
    "        coordenadas sobre la recta, desde dónde la distancia es\n",
    "        mínima hacia el punto\n",
    "    \"\"\"\n",
    "    line_vec = end-start # se genera vector\n",
    "    pnt_vec = pnt-start # se genera vector\n",
    "    line_len = np.linalg.norm(line_vec) # magnitud del vector\n",
    "    line_unitvec = line_vec/np.linalg.norm(line_vec) # vector unitario\n",
    "    pnt_vec_scaled = pnt_vec*(1.0/line_len) # Escalamiento\n",
    "    t = np.dot(line_unitvec, pnt_vec_scaled)\n",
    "    if t < 0.0:\n",
    "        t = 0.0\n",
    "    elif t > 1.0:\n",
    "        t = 1.0\n",
    "    nearest = line_vec*t # Escalamiento\n",
    "    dist = np.linalg.norm(pnt_vec-nearest) # Distancia entre puntos\n",
    "    nearest = nearest+start\n",
    "    return dist, nearest\n",
    "\n",
    "\n",
    "def haversine(coord1, coord2):\n",
    "    \"\"\"\n",
    "    Cálculo de la distancia (en metros) entre 2 coordenadas de GPS.\n",
    "\n",
    "    El resultado es una estimación determinada a través de la distancia \n",
    "    de círculo máximo sabiendo los puntos de latitud y longitud. Para este\n",
    "    fin se hace uso de la ecuación \"haversine\".\n",
    "    \n",
    "    Parameters\n",
    "    ----------\n",
    "    coord1, coord2: list o tuple\n",
    "        coordenadas (latitud, longitud) entre las cuales se desea conocer\n",
    "        la distancia que las separa en metros.\n",
    "\n",
    "    Returns\n",
    "    -------\n",
    "    Escalar\n",
    "        Distancia en metros que separa ambos puntos\n",
    "    \"\"\"\n",
    "    s_lat, s_lng = coord1\n",
    "    e_lat, e_lng = coord2\n",
    "\n",
    "    R = 6371000  # radius of the earth in meters\n",
    "\n",
    "    s_lat = s_lat*np.pi/180.0\n",
    "    s_lng = np.deg2rad(s_lng)\n",
    "    e_lat = np.deg2rad(e_lat)\n",
    "    e_lng = np.deg2rad(e_lng)\n",
    "\n",
    "    d = np.sin((e_lat - s_lat)/2)**2 + np.cos(s_lat) * \\\n",
    "        np.cos(e_lat) * np.sin((e_lng - s_lng)/2)**2\n",
    "\n",
    "    return 2 * R * np.arcsin(np.sqrt(d))\n",
    "\n",
    "\n",
    "def get_axis(df, origin):\n",
    "    \"\"\"\n",
    "    Se determinan los valores x,y dentro de un plano cartesiano para un\n",
    "    dataframe que disponga de las coordenadas de latitud y longitud.\n",
    "\n",
    "        Se toma cómo eje vertical, los valores de latitud\n",
    "        Se toma cómo eje horizontal, los valores de longitud\n",
    "\n",
    "    Parameters\n",
    "    ----------\n",
    "    df: pd.DataFrame\n",
    "        objeto DataFrame que contiene en sus columnas las columnas:\n",
    "            - lat: coordenadas de latitud\n",
    "            - lon: cooordenadas de longitud\n",
    "    origin:  pd.Series\n",
    "        objeto Series que contiene las coordenadas de latitud (lat) y \n",
    "        longitud (lon) del origen del plano cartesiano.\n",
    "\n",
    "    Returns\n",
    "    -------\n",
    "    pd.DataFrame\n",
    "        Se retorna el mismo \"df\", con las columnas correspondientes con\n",
    "        las coordenadas x,y al que corresponde cada coordenada GPS respecto\n",
    "        del origen ingresado.\n",
    "    \"\"\"\n",
    "    df[\"x_sign\"] = (df[\"lon\"]-origin.loc[\"lon\"]) / \\\n",
    "        abs(df[\"lon\"]-origin.loc[\"lon\"])\n",
    "    df[\"y_sign\"] = (df[\"lat\"]-origin.loc[\"lat\"]) / \\\n",
    "        abs(df[\"lat\"]-origin.loc[\"lat\"])\n",
    "    df[\"x_axis\"] = df.apply(lambda x: haversine(\n",
    "        origin, [origin[0], x[\"lon\"]])*x[[\"x_sign\"]], axis=1)\n",
    "    df[\"y_axis\"] = df.apply(lambda x: haversine(\n",
    "        origin, [x[\"lat\"], origin[1]])*x[\"y_sign\"], axis=1)\n",
    "    df = df.fillna(0).drop(columns=[\"x_sign\", \"y_sign\"])\n",
    "    return df\n",
    "\n",
    "\n",
    "def axis_comp(route_axis, geofences_axis):\n",
    "    \"\"\"\n",
    "    Construye una matriz que contiene la distancia que separan todos y\n",
    "    cada uno de los puntos que componen los objetos ingresados.\n",
    "\n",
    "    Esta función se pensó específicamente para comparar las coordenadas\n",
    "    de los puntos de ruta sobre las filas, y las coordenadas de geocercas\n",
    "    sobre las columnas\n",
    "\n",
    "    Parameters\n",
    "    ----------\n",
    "    route_axis: pd.Series\n",
    "        Coordenadas x o y de puntos de ruta\n",
    "    geofences_axis: pd.Series\n",
    "        Coordenadas x o y de geocercas\n",
    "\n",
    "    Returns\n",
    "    -------\n",
    "    np.array\n",
    "        matriz de dimensiones (# de puntos de ruta,# de geocercas) en dónde\n",
    "        se encuentra la distancia que separan los puntos de ruta y geocercas\n",
    "    \"\"\"\n",
    "    num_r = route_axis.values.shape[0]  # Number of points in route\n",
    "    num_gf = geofences_axis.values.shape[0]  # Number of geofences\n",
    "    # route points in the rows\n",
    "    route_axis = np.reshape(route_axis.values, (num_r, 1))\n",
    "    # geofences in the columns\n",
    "    geofences_axis = np.reshape(geofences_axis.values, (1, num_gf))\n",
    "    list_r = []\n",
    "    for i in range(num_gf):\n",
    "        list_r.append(route_axis)\n",
    "    # route points concatenated horizontally by number of geofences\n",
    "    route_axis = np.concatenate(list_r, axis=1)\n",
    "    dist = route_axis-geofences_axis  # distance along x axis\n",
    "    return dist\n",
    "\n",
    "\n",
    "def euclidean_dist(df_route, df_geofences):\n",
    "    \"\"\"\n",
    "    Calcula la distancia euclidiana entre los puntos de ruta y geocercas\n",
    "\n",
    "    Parameters\n",
    "    ----------\n",
    "    df_route: pd.DataFrame\n",
    "        dataframe de puntos de ruta con las coordenadas cartesianas\n",
    "        debe tener las columnas:\n",
    "            x_axis: coordenadas en x\n",
    "            y_axis: coordenadas en y\n",
    "    df_geofences: pd.DataFrame\n",
    "        Coordenadas x o y de geocercas\n",
    "        dataframe de puntos de geocerca con las coordenadas cartesianas\n",
    "        debe tener las columnas:\n",
    "            x_axis: coordenadas en x\n",
    "            y_axis: coordenadas en y\n",
    "\n",
    "    Returns\n",
    "    -------\n",
    "    pd.DataFrame\n",
    "        DataFrame que contiene la distancia euclidiana entre los puntos de\n",
    "        ruta y geocercas.\n",
    "        index de filas: index de punto de ruta en el orden de df_route\n",
    "        nombres de columnas: index de geocercas en el orden de df_geofences\n",
    "    \"\"\"\n",
    "    dist_x = axis_comp(df_route.x_axis, df_geofences.x_axis) # distancias eje x\n",
    "    dist_y = axis_comp(df_route.y_axis, df_geofences.y_axis) # distancias eje y\n",
    "    dist = np.sqrt(np.square(dist_x)+np.square(dist_y))\n",
    "    return pd.DataFrame(dist)\n",
    "\n",
    "\n",
    "def gf_within_r(min_dist_df, df_route, df_geofences):\n",
    "    \"\"\"\n",
    "    Se determina la ubicación de la geocerca entre los puntos de ruta apropiados\n",
    "\n",
    "    Este orden se determina según la distancia entre la geocerca (punto) y \n",
    "    las rectas generadas entre el punto de distancia mínima y sus vecinos.\n",
    "\n",
    "    Parameters\n",
    "    ----------\n",
    "    min_dist_df: pd.DataFrame\n",
    "        DataFrame con la correspondencia entre id de geocercas y puntos de ruta\n",
    "        en los cuales la distancia es mínima\n",
    "    df_route: pd.DataFrame\n",
    "        DataFrame con información asociada a los puntos de ruta\n",
    "    df_geofences: pd.DataFrame\n",
    "        DataFrame con información asociada a los puntos de geocerca\n",
    "\n",
    "    Returns\n",
    "    -------\n",
    "    pd.DataFrame\n",
    "        DataFrame con información relevante para el ordenamiento de las geocercas\n",
    "        dentro de la ruta y la validación de la distancia mínima entre geocercas\n",
    "        y ruta\n",
    "        index: id de geocercas\n",
    "        order: puntos de ruta entre los cuales la geocerca sería ubicada\n",
    "        dist: distancia euclidiana mínima entre la geocerca y la recta generada\n",
    "            entre los puntos de ruta indicados en la columna \"order\"\n",
    "        gf_rad: radio de geocerca\n",
    "        coord_gps_r: coordenadas gps de los puntos de ruta en \"order\"\n",
    "        coord_gps_gf: coordenadas gps de los puntos de geocerca en el index\n",
    "    \"\"\"\n",
    "\n",
    "    list_order = []\n",
    "    list_dist = []\n",
    "    list_gps_r = []\n",
    "    list_rad_gf = []\n",
    "    list_gps_gf = []\n",
    "    for idx, row in min_dist_df.iterrows():\n",
    "        # id de puntos de ruta y geocerca\n",
    "        route_idx = row.r_id\n",
    "        geofence_idx = row.gf_id\n",
    "        last_point_idx = df_route.index[-1]\n",
    "        gf_rad = df_geofences.loc[geofence_idx, \"rad\"]  # radio de la geocerca\n",
    "        list_rad_gf.append(gf_rad)\n",
    "        list_gps_gf.append(\n",
    "            df_geofences.loc[geofence_idx, [\"lat\", \"lon\"]].values)\n",
    "        if route_idx == 0:  # geocerca sobre punto de ruta \"0\" o entre \"0\" y \"1\"\n",
    "            geofence_coord = df_geofences.loc[geofence_idx, [\n",
    "                \"x_axis\", \"y_axis\"]].values\n",
    "            route_center_coord = df_route.loc[route_idx, [\n",
    "                \"x_axis\", \"y_axis\"]].values\n",
    "            p_neighbour_coord = df_route.loc[route_idx +\n",
    "                                             1, [\"x_axis\", \"y_axis\"]].values\n",
    "            dist_p, nearest_p = pnt2line(\n",
    "                geofence_coord, route_center_coord, p_neighbour_coord)\n",
    "            list_order.append([route_idx, route_idx+1])\n",
    "            list_dist.append(dist_p)\n",
    "            gps_coord_c = df_route.loc[route_idx, [\"lat\", \"lon\"]].values\n",
    "            gps_coord_p = df_route.loc[route_idx+1, [\"lat\", \"lon\"]].values\n",
    "            list_gps_r.append([gps_coord_c, gps_coord_p])\n",
    "            continue\n",
    "        elif route_idx == last_point_idx:  # geocerca sobre el último punto de ruta o entre el último y antepenúltimo\n",
    "            geofence_coord = df_geofences.loc[geofence_idx, [\n",
    "                \"x_axis\", \"y_axis\"]].values\n",
    "            a_neighbour_coord = df_route.loc[route_idx -\n",
    "                                             1, [\"x_axis\", \"y_axis\"]].values\n",
    "            route_center_coord = df_route.loc[route_idx, [\n",
    "                \"x_axis\", \"y_axis\"]].values\n",
    "            dist_a, nearest_a = pnt2line(\n",
    "                geofence_coord, a_neighbour_coord, route_center_coord)\n",
    "            list_order.append([route_idx-1, route_idx])\n",
    "            list_dist.append(dist_a)\n",
    "            gps_coord_a = df_route.loc[route_idx-1, [\"lat\", \"lon\"]].values\n",
    "            gps_coord_c = df_route.loc[route_idx, [\"lat\", \"lon\"]].values\n",
    "            list_gps_r.append([gps_coord_a, gps_coord_c])\n",
    "            continue\n",
    "\n",
    "        # Coordenadas de puntos de ruta y geocerca\n",
    "        geofence_coord = df_geofences.loc[geofence_idx, [\n",
    "            \"x_axis\", \"y_axis\"]].values\n",
    "        a_neighbour_coord = df_route.loc[route_idx -\n",
    "                                         1, [\"x_axis\", \"y_axis\"]].values\n",
    "        route_center_coord = df_route.loc[route_idx, [\n",
    "            \"x_axis\", \"y_axis\"]].values\n",
    "        p_neighbour_coord = df_route.loc[route_idx +\n",
    "                                         1, [\"x_axis\", \"y_axis\"]].values\n",
    "        # Distancias entre geocerca y líneas vecinas\n",
    "        dist_a, nearest_a = pnt2line(\n",
    "            geofence_coord, a_neighbour_coord, route_center_coord)\n",
    "        dist_p, nearest_p = pnt2line(\n",
    "            geofence_coord, route_center_coord, p_neighbour_coord)\n",
    "\n",
    "        if dist_a < dist_p:\n",
    "            # print(\"\\tGF {} entre puntos {} y {}\".format(geofence_idx,route_idx-1,route_idx))\n",
    "            list_order.append([route_idx-1, route_idx])\n",
    "            list_dist.append(dist_a)\n",
    "            gps_coord_a = df_route.loc[route_idx-1, [\"lat\", \"lon\"]].values\n",
    "            gps_coord_c = df_route.loc[route_idx, [\"lat\", \"lon\"]].values\n",
    "            list_gps_r.append([gps_coord_a, gps_coord_c])\n",
    "        else:\n",
    "            # print(\"\\tGF {} entre puntos {} y {}\".format(geofence_idx,route_idx,route_idx+1))\n",
    "            list_order.append([route_idx, route_idx+1])\n",
    "            list_dist.append(dist_p)\n",
    "            gps_coord_c = df_route.loc[route_idx, [\"lat\", \"lon\"]].values\n",
    "            gps_coord_p = df_route.loc[route_idx+1, [\"lat\", \"lon\"]].values\n",
    "            list_gps_r.append([gps_coord_c, gps_coord_p])\n",
    "    return {\"order\": list_order, \"dist\": list_dist, \"gf_rad\": list_rad_gf, \"coord_gps_r\": list_gps_r, \"coord_gps_gf\": list_gps_gf}\n",
    "\n",
    "def get_gps_coord(coord_gps_r, coord_gps_gf):\n",
    "    \"\"\"\n",
    "    Se determinan las coordenadas GPS de las geocercas SOBRE la trayectoria de\n",
    "    la ruta.\n",
    "\n",
    "    Este cálculo supone la latitud y longitud cómo variables lineales, aplicando\n",
    "    la función \"pnt2line\" entre las coordenadas de la geocerca y la recta correspondiente\n",
    "    entre los puntos de ruta por dónde la geocerca iría ubicada.\n",
    "\n",
    "    Parameters\n",
    "    ----------\n",
    "    coord_gps_r: list[list,list]\n",
    "        Lista con las coordenadas de los puntos de recta de la ruta\n",
    "    coord_gps_gf: list\n",
    "        Lista con las coordenadas de los puntos de la geocerca\n",
    "\n",
    "    Returns\n",
    "    -------\n",
    "    np.array\n",
    "        Coordenadas con las coordenadas de los puntos de la geocerca SOBRE la ruta\n",
    "    \"\"\"\n",
    "    # Calculo de coordenadas GPS de geocerca SOBRE LA RUTA\n",
    "    a_gps = coord_gps_r[0]\n",
    "    p_gps = coord_gps_r[1]\n",
    "    dist, gf_gps = pnt2line(coord_gps_gf, a_gps, p_gps)\n",
    "    return gf_gps\n",
    "\n",
    "def merge_gf(min_dist_df,df_route,df_geofences):\n",
    "    full_route_df = pd.DataFrame(columns=['lat', 'lon','id'])\n",
    "    lim_inf = 0\n",
    "    lim_sup = min_dist_df.loc[0, \"order\"][0]\n",
    "    for idx, row in min_dist_df.iterrows():\n",
    "        segment_route_df = df_route.loc[lim_inf:lim_sup, ['lat', 'lon','id']]\n",
    "        full_route_df = pd.concat([full_route_df, segment_route_df])\n",
    "        geofence = pd.DataFrame({'lat':[row.coord_gps_gf[0]], 'lon':[row.coord_gps_gf[1]], 'dist':[row.dist],'gf_rad':[row.gf_rad],'id':[df_geofences.loc[row.gf_id,\"id\"]]})\n",
    "        full_route_df = pd.concat([full_route_df, geofence])\n",
    "        lim_inf = row.order[1]\n",
    "        try:\n",
    "            lim_sup = min_dist_df.loc[idx+1, \"order\"][0]\n",
    "        except:  # al llegar a la última fila\n",
    "            lim_sup = df_route.index[-1]  # Último registro de puntos de ruta\n",
    "            segment_route_df = df_route.loc[lim_inf:lim_sup, ['lat', 'lon','id']]\n",
    "            full_route_df = pd.concat([full_route_df, segment_route_df])\n",
    "    full_route_df.insert(4, \"gf_valid\", full_route_df.gf_rad >= full_route_df.dist)\n",
    "    full_route_df = full_route_df.reset_index().drop(columns=[\"index\"])\n",
    "    return full_route_df"
   ]
  },
  {
   "cell_type": "markdown",
   "metadata": {},
   "source": [
    "### Objetivo\n",
    "\n",
    "Se tiene:\n",
    "\n",
    "    - df de coordenadas gps de ruta\n",
    "    - df de coordenadas gps de geocercas\n",
    "        - tiene además un radio de geocerca\n",
    "\n",
    "Se requiere:\n",
    "\n",
    "    - df de coordenadas gps en dónde las coordenadas de ruta y geocercas se encuentren organizados de manera lógica\n",
    "\n",
    "    Condiciones:\n",
    "\n",
    "        - Ubicar las geocercas entre puntos de ruta en un orden lógico que no altere el paso por todos los puntos de ruta\n",
    "        - Una geocerca es válida para ser agregada a la ruta, si la ruta y el círculo dibujado por el radio de la geocerca se intersectan"
   ]
  },
  {
   "cell_type": "markdown",
   "metadata": {},
   "source": [
    "### Solución:"
   ]
  },
  {
   "cell_type": "code",
   "execution_count": 89,
   "metadata": {},
   "outputs": [
    {
     "name": "stdout",
     "output_type": "stream",
     "text": [
      "Ruta:\n"
     ]
    },
    {
     "data": {
      "text/html": [
       "<div>\n",
       "<style scoped>\n",
       "    .dataframe tbody tr th:only-of-type {\n",
       "        vertical-align: middle;\n",
       "    }\n",
       "\n",
       "    .dataframe tbody tr th {\n",
       "        vertical-align: top;\n",
       "    }\n",
       "\n",
       "    .dataframe thead th {\n",
       "        text-align: right;\n",
       "    }\n",
       "</style>\n",
       "<table border=\"1\" class=\"dataframe\">\n",
       "  <thead>\n",
       "    <tr style=\"text-align: right;\">\n",
       "      <th></th>\n",
       "      <th>lat</th>\n",
       "      <th>lon</th>\n",
       "      <th>id</th>\n",
       "      <th>x_axis</th>\n",
       "      <th>y_axis</th>\n",
       "    </tr>\n",
       "  </thead>\n",
       "  <tbody>\n",
       "    <tr>\n",
       "      <th>0</th>\n",
       "      <td>4.746628</td>\n",
       "      <td>-74.091267</td>\n",
       "      <td>0</td>\n",
       "      <td>0.000000</td>\n",
       "      <td>0.000000</td>\n",
       "    </tr>\n",
       "    <tr>\n",
       "      <th>1</th>\n",
       "      <td>4.746211</td>\n",
       "      <td>-74.090275</td>\n",
       "      <td>1</td>\n",
       "      <td>109.927061</td>\n",
       "      <td>-46.368284</td>\n",
       "    </tr>\n",
       "    <tr>\n",
       "      <th>2</th>\n",
       "      <td>4.745671</td>\n",
       "      <td>-74.089695</td>\n",
       "      <td>2</td>\n",
       "      <td>174.198932</td>\n",
       "      <td>-106.413545</td>\n",
       "    </tr>\n",
       "    <tr>\n",
       "      <th>3</th>\n",
       "      <td>4.745542</td>\n",
       "      <td>-74.089191</td>\n",
       "      <td>3</td>\n",
       "      <td>230.048971</td>\n",
       "      <td>-120.757690</td>\n",
       "    </tr>\n",
       "    <tr>\n",
       "      <th>4</th>\n",
       "      <td>4.744062</td>\n",
       "      <td>-74.089550</td>\n",
       "      <td>4</td>\n",
       "      <td>190.266899</td>\n",
       "      <td>-285.326182</td>\n",
       "    </tr>\n",
       "    <tr>\n",
       "      <th>5</th>\n",
       "      <td>4.742025</td>\n",
       "      <td>-74.090071</td>\n",
       "      <td>5</td>\n",
       "      <td>132.533029</td>\n",
       "      <td>-511.830247</td>\n",
       "    </tr>\n",
       "    <tr>\n",
       "      <th>6</th>\n",
       "      <td>4.741630</td>\n",
       "      <td>-74.090320</td>\n",
       "      <td>6</td>\n",
       "      <td>104.940450</td>\n",
       "      <td>-555.752243</td>\n",
       "    </tr>\n",
       "    <tr>\n",
       "      <th>7</th>\n",
       "      <td>4.738160</td>\n",
       "      <td>-74.086206</td>\n",
       "      <td>7</td>\n",
       "      <td>560.827476</td>\n",
       "      <td>-941.598639</td>\n",
       "    </tr>\n",
       "    <tr>\n",
       "      <th>8</th>\n",
       "      <td>4.736856</td>\n",
       "      <td>-74.082507</td>\n",
       "      <td>8</td>\n",
       "      <td>970.726870</td>\n",
       "      <td>-1086.596823</td>\n",
       "    </tr>\n",
       "    <tr>\n",
       "      <th>9</th>\n",
       "      <td>4.732738</td>\n",
       "      <td>-74.076824</td>\n",
       "      <td>9</td>\n",
       "      <td>1600.480387</td>\n",
       "      <td>-1544.497531</td>\n",
       "    </tr>\n",
       "    <tr>\n",
       "      <th>10</th>\n",
       "      <td>4.732351</td>\n",
       "      <td>-74.075308</td>\n",
       "      <td>10</td>\n",
       "      <td>1768.473758</td>\n",
       "      <td>-1587.529968</td>\n",
       "    </tr>\n",
       "    <tr>\n",
       "      <th>11</th>\n",
       "      <td>4.727883</td>\n",
       "      <td>-74.074776</td>\n",
       "      <td>11</td>\n",
       "      <td>1827.426577</td>\n",
       "      <td>-2084.348900</td>\n",
       "    </tr>\n",
       "    <tr>\n",
       "      <th>12</th>\n",
       "      <td>4.721602</td>\n",
       "      <td>-74.074857</td>\n",
       "      <td>12</td>\n",
       "      <td>1818.450678</td>\n",
       "      <td>-2782.764234</td>\n",
       "    </tr>\n",
       "    <tr>\n",
       "      <th>13</th>\n",
       "      <td>4.719085</td>\n",
       "      <td>-74.073991</td>\n",
       "      <td>13</td>\n",
       "      <td>1914.415229</td>\n",
       "      <td>-3062.641865</td>\n",
       "    </tr>\n",
       "    <tr>\n",
       "      <th>14</th>\n",
       "      <td>4.708008</td>\n",
       "      <td>-74.071483</td>\n",
       "      <td>14</td>\n",
       "      <td>2192.335662</td>\n",
       "      <td>-4294.348067</td>\n",
       "    </tr>\n",
       "    <tr>\n",
       "      <th>15</th>\n",
       "      <td>4.699466</td>\n",
       "      <td>-74.070076</td>\n",
       "      <td>15</td>\n",
       "      <td>2348.250355</td>\n",
       "      <td>-5244.175130</td>\n",
       "    </tr>\n",
       "    <tr>\n",
       "      <th>16</th>\n",
       "      <td>4.692812</td>\n",
       "      <td>-74.066828</td>\n",
       "      <td>16</td>\n",
       "      <td>2708.172829</td>\n",
       "      <td>-5984.066172</td>\n",
       "    </tr>\n",
       "    <tr>\n",
       "      <th>17</th>\n",
       "      <td>4.689323</td>\n",
       "      <td>-74.065456</td>\n",
       "      <td>17</td>\n",
       "      <td>2860.209046</td>\n",
       "      <td>-6372.025271</td>\n",
       "    </tr>\n",
       "    <tr>\n",
       "      <th>18</th>\n",
       "      <td>4.685673</td>\n",
       "      <td>-74.051815</td>\n",
       "      <td>18</td>\n",
       "      <td>4371.816950</td>\n",
       "      <td>-6777.886754</td>\n",
       "    </tr>\n",
       "    <tr>\n",
       "      <th>19</th>\n",
       "      <td>4.684665</td>\n",
       "      <td>-74.047972</td>\n",
       "      <td>19</td>\n",
       "      <td>4797.673498</td>\n",
       "      <td>-6889.971240</td>\n",
       "    </tr>\n",
       "    <tr>\n",
       "      <th>20</th>\n",
       "      <td>4.682507</td>\n",
       "      <td>-74.043335</td>\n",
       "      <td>20</td>\n",
       "      <td>5311.516020</td>\n",
       "      <td>-7129.929891</td>\n",
       "    </tr>\n",
       "    <tr>\n",
       "      <th>21</th>\n",
       "      <td>4.681518</td>\n",
       "      <td>-74.041567</td>\n",
       "      <td>21</td>\n",
       "      <td>5507.434411</td>\n",
       "      <td>-7239.901674</td>\n",
       "    </tr>\n",
       "    <tr>\n",
       "      <th>22</th>\n",
       "      <td>4.682777</td>\n",
       "      <td>-74.043082</td>\n",
       "      <td>22</td>\n",
       "      <td>5339.551853</td>\n",
       "      <td>-7099.907261</td>\n",
       "    </tr>\n",
       "    <tr>\n",
       "      <th>23</th>\n",
       "      <td>4.683586</td>\n",
       "      <td>-74.042757</td>\n",
       "      <td>23</td>\n",
       "      <td>5375.566263</td>\n",
       "      <td>-7009.950566</td>\n",
       "    </tr>\n",
       "  </tbody>\n",
       "</table>\n",
       "</div>"
      ],
      "text/plain": [
       "         lat        lon  id       x_axis       y_axis\n",
       "0   4.746628 -74.091267   0     0.000000     0.000000\n",
       "1   4.746211 -74.090275   1   109.927061   -46.368284\n",
       "2   4.745671 -74.089695   2   174.198932  -106.413545\n",
       "3   4.745542 -74.089191   3   230.048971  -120.757690\n",
       "4   4.744062 -74.089550   4   190.266899  -285.326182\n",
       "5   4.742025 -74.090071   5   132.533029  -511.830247\n",
       "6   4.741630 -74.090320   6   104.940450  -555.752243\n",
       "7   4.738160 -74.086206   7   560.827476  -941.598639\n",
       "8   4.736856 -74.082507   8   970.726870 -1086.596823\n",
       "9   4.732738 -74.076824   9  1600.480387 -1544.497531\n",
       "10  4.732351 -74.075308  10  1768.473758 -1587.529968\n",
       "11  4.727883 -74.074776  11  1827.426577 -2084.348900\n",
       "12  4.721602 -74.074857  12  1818.450678 -2782.764234\n",
       "13  4.719085 -74.073991  13  1914.415229 -3062.641865\n",
       "14  4.708008 -74.071483  14  2192.335662 -4294.348067\n",
       "15  4.699466 -74.070076  15  2348.250355 -5244.175130\n",
       "16  4.692812 -74.066828  16  2708.172829 -5984.066172\n",
       "17  4.689323 -74.065456  17  2860.209046 -6372.025271\n",
       "18  4.685673 -74.051815  18  4371.816950 -6777.886754\n",
       "19  4.684665 -74.047972  19  4797.673498 -6889.971240\n",
       "20  4.682507 -74.043335  20  5311.516020 -7129.929891\n",
       "21  4.681518 -74.041567  21  5507.434411 -7239.901674\n",
       "22  4.682777 -74.043082  22  5339.551853 -7099.907261\n",
       "23  4.683586 -74.042757  23  5375.566263 -7009.950566"
      ]
     },
     "metadata": {},
     "output_type": "display_data"
    },
    {
     "name": "stdout",
     "output_type": "stream",
     "text": [
      "Geocercas:\n"
     ]
    },
    {
     "data": {
      "text/html": [
       "<div>\n",
       "<style scoped>\n",
       "    .dataframe tbody tr th:only-of-type {\n",
       "        vertical-align: middle;\n",
       "    }\n",
       "\n",
       "    .dataframe tbody tr th {\n",
       "        vertical-align: top;\n",
       "    }\n",
       "\n",
       "    .dataframe thead th {\n",
       "        text-align: right;\n",
       "    }\n",
       "</style>\n",
       "<table border=\"1\" class=\"dataframe\">\n",
       "  <thead>\n",
       "    <tr style=\"text-align: right;\">\n",
       "      <th></th>\n",
       "      <th>lat</th>\n",
       "      <th>lon</th>\n",
       "      <th>note</th>\n",
       "      <th>rad</th>\n",
       "      <th>id</th>\n",
       "      <th>x_axis</th>\n",
       "      <th>y_axis</th>\n",
       "    </tr>\n",
       "  </thead>\n",
       "  <tbody>\n",
       "    <tr>\n",
       "      <th>0</th>\n",
       "      <td>4.712394</td>\n",
       "      <td>-74.071542</td>\n",
       "      <td>bulevar_niza</td>\n",
       "      <td>20</td>\n",
       "      <td>0</td>\n",
       "      <td>2185.797661</td>\n",
       "      <td>-3806.647119</td>\n",
       "    </tr>\n",
       "    <tr>\n",
       "      <th>1</th>\n",
       "      <td>4.683359</td>\n",
       "      <td>-74.045340</td>\n",
       "      <td>migracion_colombia</td>\n",
       "      <td>30</td>\n",
       "      <td>1</td>\n",
       "      <td>5089.334813</td>\n",
       "      <td>-7035.191814</td>\n",
       "    </tr>\n",
       "    <tr>\n",
       "      <th>2</th>\n",
       "      <td>4.736713</td>\n",
       "      <td>-74.082689</td>\n",
       "      <td>cementerio_suba</td>\n",
       "      <td>10</td>\n",
       "      <td>2</td>\n",
       "      <td>950.558801</td>\n",
       "      <td>-1102.497698</td>\n",
       "    </tr>\n",
       "    <tr>\n",
       "      <th>3</th>\n",
       "      <td>4.688444</td>\n",
       "      <td>-74.064570</td>\n",
       "      <td>iserra_100</td>\n",
       "      <td>40</td>\n",
       "      <td>3</td>\n",
       "      <td>2958.389869</td>\n",
       "      <td>-6469.765612</td>\n",
       "    </tr>\n",
       "  </tbody>\n",
       "</table>\n",
       "</div>"
      ],
      "text/plain": [
       "        lat        lon                note  rad  id       x_axis       y_axis\n",
       "0  4.712394 -74.071542        bulevar_niza   20   0  2185.797661 -3806.647119\n",
       "1  4.683359 -74.045340  migracion_colombia   30   1  5089.334813 -7035.191814\n",
       "2  4.736713 -74.082689     cementerio_suba   10   2   950.558801 -1102.497698\n",
       "3  4.688444 -74.064570          iserra_100   40   3  2958.389869 -6469.765612"
      ]
     },
     "metadata": {},
     "output_type": "display_data"
    },
    {
     "name": "stdout",
     "output_type": "stream",
     "text": [
      "Distancia entre puntos:\n"
     ]
    },
    {
     "data": {
      "text/html": [
       "<div>\n",
       "<style scoped>\n",
       "    .dataframe tbody tr th:only-of-type {\n",
       "        vertical-align: middle;\n",
       "    }\n",
       "\n",
       "    .dataframe tbody tr th {\n",
       "        vertical-align: top;\n",
       "    }\n",
       "\n",
       "    .dataframe thead th {\n",
       "        text-align: right;\n",
       "    }\n",
       "</style>\n",
       "<table border=\"1\" class=\"dataframe\">\n",
       "  <thead>\n",
       "    <tr style=\"text-align: right;\">\n",
       "      <th></th>\n",
       "      <th>0</th>\n",
       "      <th>1</th>\n",
       "      <th>2</th>\n",
       "      <th>3</th>\n",
       "    </tr>\n",
       "  </thead>\n",
       "  <tbody>\n",
       "    <tr>\n",
       "      <th>0</th>\n",
       "      <td>4389.564182</td>\n",
       "      <td>8683.043976</td>\n",
       "      <td>1455.700246</td>\n",
       "      <td>7114.066185</td>\n",
       "    </tr>\n",
       "    <tr>\n",
       "      <th>1</th>\n",
       "      <td>4295.222423</td>\n",
       "      <td>8581.267732</td>\n",
       "      <td>1349.841124</td>\n",
       "      <td>7026.647394</td>\n",
       "    </tr>\n",
       "    <tr>\n",
       "      <th>2</th>\n",
       "      <td>4211.681131</td>\n",
       "      <td>8495.088524</td>\n",
       "      <td>1262.900743</td>\n",
       "      <td>6945.787839</td>\n",
       "    </tr>\n",
       "    <tr>\n",
       "      <th>3</th>\n",
       "      <td>4172.617143</td>\n",
       "      <td>8451.157207</td>\n",
       "      <td>1217.763465</td>\n",
       "      <td>6910.408501</td>\n",
       "    </tr>\n",
       "    <tr>\n",
       "      <th>4</th>\n",
       "      <td>4047.449094</td>\n",
       "      <td>8340.356855</td>\n",
       "      <td>1116.159962</td>\n",
       "      <td>6775.676781</td>\n",
       "    </tr>\n",
       "    <tr>\n",
       "      <th>5</th>\n",
       "      <td>3882.230527</td>\n",
       "      <td>8192.931713</td>\n",
       "      <td>1008.986719</td>\n",
       "      <td>6594.123193</td>\n",
       "    </tr>\n",
       "    <tr>\n",
       "      <th>6</th>\n",
       "      <td>3859.829559</td>\n",
       "      <td>8174.798120</td>\n",
       "      <td>1006.976159</td>\n",
       "      <td>6566.409042</td>\n",
       "    </tr>\n",
       "    <tr>\n",
       "      <th>7</th>\n",
       "      <td>3293.786711</td>\n",
       "      <td>7592.052192</td>\n",
       "      <td>421.638485</td>\n",
       "      <td>6025.689629</td>\n",
       "    </tr>\n",
       "    <tr>\n",
       "      <th>8</th>\n",
       "      <td>2979.105678</td>\n",
       "      <td>7235.241098</td>\n",
       "      <td>25.682462</td>\n",
       "      <td>5738.406609</td>\n",
       "    </tr>\n",
       "    <tr>\n",
       "      <th>9</th>\n",
       "      <td>2336.646543</td>\n",
       "      <td>6505.369237</td>\n",
       "      <td>785.978321</td>\n",
       "      <td>5109.029637</td>\n",
       "    </tr>\n",
       "    <tr>\n",
       "      <th>10</th>\n",
       "      <td>2258.016867</td>\n",
       "      <td>6380.057816</td>\n",
       "      <td>950.915969</td>\n",
       "      <td>5025.149275</td>\n",
       "    </tr>\n",
       "    <tr>\n",
       "      <th>11</th>\n",
       "      <td>1759.187593</td>\n",
       "      <td>5928.818676</td>\n",
       "      <td>1316.407567</td>\n",
       "      <td>4528.902483</td>\n",
       "    </tr>\n",
       "    <tr>\n",
       "      <th>12</th>\n",
       "      <td>1087.786729</td>\n",
       "      <td>5364.869369</td>\n",
       "      <td>1891.172109</td>\n",
       "      <td>3859.202057</td>\n",
       "    </tr>\n",
       "    <tr>\n",
       "      <th>13</th>\n",
       "      <td>791.954697</td>\n",
       "      <td>5085.397473</td>\n",
       "      <td>2184.304093</td>\n",
       "      <td>3563.477975</td>\n",
       "    </tr>\n",
       "    <tr>\n",
       "      <th>14</th>\n",
       "      <td>487.744770</td>\n",
       "      <td>3988.085822</td>\n",
       "      <td>3424.896868</td>\n",
       "      <td>2306.356551</td>\n",
       "    </tr>\n",
       "    <tr>\n",
       "      <th>15</th>\n",
       "      <td>1446.678147</td>\n",
       "      <td>3274.337302</td>\n",
       "      <td>4371.159301</td>\n",
       "      <td>1369.066198</td>\n",
       "    </tr>\n",
       "    <tr>\n",
       "      <th>16</th>\n",
       "      <td>2239.202883</td>\n",
       "      <td>2602.844119</td>\n",
       "      <td>5188.344422</td>\n",
       "      <td>546.362986</td>\n",
       "    </tr>\n",
       "    <tr>\n",
       "      <th>17</th>\n",
       "      <td>2652.545152</td>\n",
       "      <td>2325.680878</td>\n",
       "      <td>5604.880455</td>\n",
       "      <td>138.537533</td>\n",
       "    </tr>\n",
       "    <tr>\n",
       "      <th>18</th>\n",
       "      <td>3688.759317</td>\n",
       "      <td>762.258341</td>\n",
       "      <td>6626.843008</td>\n",
       "      <td>1446.621841</td>\n",
       "    </tr>\n",
       "    <tr>\n",
       "      <th>19</th>\n",
       "      <td>4040.888890</td>\n",
       "      <td>325.814883</td>\n",
       "      <td>6949.470591</td>\n",
       "      <td>1886.673537</td>\n",
       "    </tr>\n",
       "    <tr>\n",
       "      <th>20</th>\n",
       "      <td>4562.271763</td>\n",
       "      <td>241.536316</td>\n",
       "      <td>7439.616033</td>\n",
       "      <td>2443.976178</td>\n",
       "    </tr>\n",
       "    <tr>\n",
       "      <th>21</th>\n",
       "      <td>4777.081487</td>\n",
       "      <td>465.524866</td>\n",
       "      <td>7644.137812</td>\n",
       "      <td>2662.843899</td>\n",
       "    </tr>\n",
       "    <tr>\n",
       "      <th>22</th>\n",
       "      <td>4559.794718</td>\n",
       "      <td>258.450491</td>\n",
       "      <td>7431.835674</td>\n",
       "      <td>2463.130304</td>\n",
       "    </tr>\n",
       "    <tr>\n",
       "      <th>23</th>\n",
       "      <td>4520.594729</td>\n",
       "      <td>287.342241</td>\n",
       "      <td>7380.968123</td>\n",
       "      <td>2476.800659</td>\n",
       "    </tr>\n",
       "  </tbody>\n",
       "</table>\n",
       "</div>"
      ],
      "text/plain": [
       "              0            1            2            3\n",
       "0   4389.564182  8683.043976  1455.700246  7114.066185\n",
       "1   4295.222423  8581.267732  1349.841124  7026.647394\n",
       "2   4211.681131  8495.088524  1262.900743  6945.787839\n",
       "3   4172.617143  8451.157207  1217.763465  6910.408501\n",
       "4   4047.449094  8340.356855  1116.159962  6775.676781\n",
       "5   3882.230527  8192.931713  1008.986719  6594.123193\n",
       "6   3859.829559  8174.798120  1006.976159  6566.409042\n",
       "7   3293.786711  7592.052192   421.638485  6025.689629\n",
       "8   2979.105678  7235.241098    25.682462  5738.406609\n",
       "9   2336.646543  6505.369237   785.978321  5109.029637\n",
       "10  2258.016867  6380.057816   950.915969  5025.149275\n",
       "11  1759.187593  5928.818676  1316.407567  4528.902483\n",
       "12  1087.786729  5364.869369  1891.172109  3859.202057\n",
       "13   791.954697  5085.397473  2184.304093  3563.477975\n",
       "14   487.744770  3988.085822  3424.896868  2306.356551\n",
       "15  1446.678147  3274.337302  4371.159301  1369.066198\n",
       "16  2239.202883  2602.844119  5188.344422   546.362986\n",
       "17  2652.545152  2325.680878  5604.880455   138.537533\n",
       "18  3688.759317   762.258341  6626.843008  1446.621841\n",
       "19  4040.888890   325.814883  6949.470591  1886.673537\n",
       "20  4562.271763   241.536316  7439.616033  2443.976178\n",
       "21  4777.081487   465.524866  7644.137812  2662.843899\n",
       "22  4559.794718   258.450491  7431.835674  2463.130304\n",
       "23  4520.594729   287.342241  7380.968123  2476.800659"
      ]
     },
     "metadata": {},
     "output_type": "display_data"
    },
    {
     "name": "stdout",
     "output_type": "stream",
     "text": [
      "Orden:\n"
     ]
    },
    {
     "data": {
      "text/html": [
       "<div>\n",
       "<style scoped>\n",
       "    .dataframe tbody tr th:only-of-type {\n",
       "        vertical-align: middle;\n",
       "    }\n",
       "\n",
       "    .dataframe tbody tr th {\n",
       "        vertical-align: top;\n",
       "    }\n",
       "\n",
       "    .dataframe thead th {\n",
       "        text-align: right;\n",
       "    }\n",
       "</style>\n",
       "<table border=\"1\" class=\"dataframe\">\n",
       "  <thead>\n",
       "    <tr style=\"text-align: right;\">\n",
       "      <th></th>\n",
       "      <th>gf_id</th>\n",
       "      <th>r_id</th>\n",
       "      <th>order</th>\n",
       "      <th>dist</th>\n",
       "      <th>gf_rad</th>\n",
       "      <th>coord_gps_r</th>\n",
       "      <th>coord_gps_gf</th>\n",
       "    </tr>\n",
       "  </thead>\n",
       "  <tbody>\n",
       "    <tr>\n",
       "      <th>0</th>\n",
       "      <td>2</td>\n",
       "      <td>8</td>\n",
       "      <td>[7, 8]</td>\n",
       "      <td>21.716464</td>\n",
       "      <td>10</td>\n",
       "      <td>[[4.73816, -74.086206], [4.736856, -74.082507]]</td>\n",
       "      <td>[4.7368972608777575, -74.08262404293468]</td>\n",
       "    </tr>\n",
       "    <tr>\n",
       "      <th>1</th>\n",
       "      <td>0</td>\n",
       "      <td>14</td>\n",
       "      <td>[13, 14]</td>\n",
       "      <td>100.967780</td>\n",
       "      <td>20</td>\n",
       "      <td>[[4.719085, -74.073991], [4.708008, -74.071483]]</td>\n",
       "      <td>[4.71219282831019, -74.07243050829665]</td>\n",
       "    </tr>\n",
       "    <tr>\n",
       "      <th>2</th>\n",
       "      <td>3</td>\n",
       "      <td>17</td>\n",
       "      <td>[17, 18]</td>\n",
       "      <td>68.937503</td>\n",
       "      <td>40</td>\n",
       "      <td>[[4.689323, -74.065456], [4.685673, -74.051815]]</td>\n",
       "      <td>[4.689043038712659, -74.06440971180257]</td>\n",
       "    </tr>\n",
       "    <tr>\n",
       "      <th>3</th>\n",
       "      <td>1</td>\n",
       "      <td>20</td>\n",
       "      <td>[19, 20]</td>\n",
       "      <td>8.170983</td>\n",
       "      <td>30</td>\n",
       "      <td>[[4.684665, -74.047972], [4.682507, -74.043335]]</td>\n",
       "      <td>[4.683425662939752, -74.04530897592754]</td>\n",
       "    </tr>\n",
       "  </tbody>\n",
       "</table>\n",
       "</div>"
      ],
      "text/plain": [
       "   gf_id  r_id     order        dist  gf_rad  \\\n",
       "0      2     8    [7, 8]   21.716464      10   \n",
       "1      0    14  [13, 14]  100.967780      20   \n",
       "2      3    17  [17, 18]   68.937503      40   \n",
       "3      1    20  [19, 20]    8.170983      30   \n",
       "\n",
       "                                        coord_gps_r  \\\n",
       "0   [[4.73816, -74.086206], [4.736856, -74.082507]]   \n",
       "1  [[4.719085, -74.073991], [4.708008, -74.071483]]   \n",
       "2  [[4.689323, -74.065456], [4.685673, -74.051815]]   \n",
       "3  [[4.684665, -74.047972], [4.682507, -74.043335]]   \n",
       "\n",
       "                               coord_gps_gf  \n",
       "0  [4.7368972608777575, -74.08262404293468]  \n",
       "1    [4.71219282831019, -74.07243050829665]  \n",
       "2   [4.689043038712659, -74.06440971180257]  \n",
       "3   [4.683425662939752, -74.04530897592754]  "
      ]
     },
     "metadata": {},
     "output_type": "display_data"
    },
    {
     "name": "stdout",
     "output_type": "stream",
     "text": [
      "Resultado:\n"
     ]
    },
    {
     "data": {
      "text/html": [
       "<div>\n",
       "<style scoped>\n",
       "    .dataframe tbody tr th:only-of-type {\n",
       "        vertical-align: middle;\n",
       "    }\n",
       "\n",
       "    .dataframe tbody tr th {\n",
       "        vertical-align: top;\n",
       "    }\n",
       "\n",
       "    .dataframe thead th {\n",
       "        text-align: right;\n",
       "    }\n",
       "</style>\n",
       "<table border=\"1\" class=\"dataframe\">\n",
       "  <thead>\n",
       "    <tr style=\"text-align: right;\">\n",
       "      <th></th>\n",
       "      <th>lat</th>\n",
       "      <th>lon</th>\n",
       "      <th>id</th>\n",
       "      <th>dist</th>\n",
       "      <th>gf_valid</th>\n",
       "      <th>gf_rad</th>\n",
       "    </tr>\n",
       "  </thead>\n",
       "  <tbody>\n",
       "    <tr>\n",
       "      <th>0</th>\n",
       "      <td>4.746628</td>\n",
       "      <td>-74.091267</td>\n",
       "      <td>0</td>\n",
       "      <td>NaN</td>\n",
       "      <td>False</td>\n",
       "      <td>NaN</td>\n",
       "    </tr>\n",
       "    <tr>\n",
       "      <th>1</th>\n",
       "      <td>4.746211</td>\n",
       "      <td>-74.090275</td>\n",
       "      <td>1</td>\n",
       "      <td>NaN</td>\n",
       "      <td>False</td>\n",
       "      <td>NaN</td>\n",
       "    </tr>\n",
       "    <tr>\n",
       "      <th>2</th>\n",
       "      <td>4.745671</td>\n",
       "      <td>-74.089695</td>\n",
       "      <td>2</td>\n",
       "      <td>NaN</td>\n",
       "      <td>False</td>\n",
       "      <td>NaN</td>\n",
       "    </tr>\n",
       "    <tr>\n",
       "      <th>3</th>\n",
       "      <td>4.745542</td>\n",
       "      <td>-74.089191</td>\n",
       "      <td>3</td>\n",
       "      <td>NaN</td>\n",
       "      <td>False</td>\n",
       "      <td>NaN</td>\n",
       "    </tr>\n",
       "    <tr>\n",
       "      <th>4</th>\n",
       "      <td>4.744062</td>\n",
       "      <td>-74.089550</td>\n",
       "      <td>4</td>\n",
       "      <td>NaN</td>\n",
       "      <td>False</td>\n",
       "      <td>NaN</td>\n",
       "    </tr>\n",
       "    <tr>\n",
       "      <th>5</th>\n",
       "      <td>4.742025</td>\n",
       "      <td>-74.090071</td>\n",
       "      <td>5</td>\n",
       "      <td>NaN</td>\n",
       "      <td>False</td>\n",
       "      <td>NaN</td>\n",
       "    </tr>\n",
       "    <tr>\n",
       "      <th>6</th>\n",
       "      <td>4.741630</td>\n",
       "      <td>-74.090320</td>\n",
       "      <td>6</td>\n",
       "      <td>NaN</td>\n",
       "      <td>False</td>\n",
       "      <td>NaN</td>\n",
       "    </tr>\n",
       "    <tr>\n",
       "      <th>7</th>\n",
       "      <td>4.738160</td>\n",
       "      <td>-74.086206</td>\n",
       "      <td>7</td>\n",
       "      <td>NaN</td>\n",
       "      <td>False</td>\n",
       "      <td>NaN</td>\n",
       "    </tr>\n",
       "    <tr>\n",
       "      <th>8</th>\n",
       "      <td>4.736897</td>\n",
       "      <td>-74.082624</td>\n",
       "      <td>2</td>\n",
       "      <td>21.716464</td>\n",
       "      <td>False</td>\n",
       "      <td>10.0</td>\n",
       "    </tr>\n",
       "    <tr>\n",
       "      <th>9</th>\n",
       "      <td>4.736856</td>\n",
       "      <td>-74.082507</td>\n",
       "      <td>8</td>\n",
       "      <td>NaN</td>\n",
       "      <td>False</td>\n",
       "      <td>NaN</td>\n",
       "    </tr>\n",
       "    <tr>\n",
       "      <th>10</th>\n",
       "      <td>4.732738</td>\n",
       "      <td>-74.076824</td>\n",
       "      <td>9</td>\n",
       "      <td>NaN</td>\n",
       "      <td>False</td>\n",
       "      <td>NaN</td>\n",
       "    </tr>\n",
       "    <tr>\n",
       "      <th>11</th>\n",
       "      <td>4.732351</td>\n",
       "      <td>-74.075308</td>\n",
       "      <td>10</td>\n",
       "      <td>NaN</td>\n",
       "      <td>False</td>\n",
       "      <td>NaN</td>\n",
       "    </tr>\n",
       "    <tr>\n",
       "      <th>12</th>\n",
       "      <td>4.727883</td>\n",
       "      <td>-74.074776</td>\n",
       "      <td>11</td>\n",
       "      <td>NaN</td>\n",
       "      <td>False</td>\n",
       "      <td>NaN</td>\n",
       "    </tr>\n",
       "    <tr>\n",
       "      <th>13</th>\n",
       "      <td>4.721602</td>\n",
       "      <td>-74.074857</td>\n",
       "      <td>12</td>\n",
       "      <td>NaN</td>\n",
       "      <td>False</td>\n",
       "      <td>NaN</td>\n",
       "    </tr>\n",
       "    <tr>\n",
       "      <th>14</th>\n",
       "      <td>4.719085</td>\n",
       "      <td>-74.073991</td>\n",
       "      <td>13</td>\n",
       "      <td>NaN</td>\n",
       "      <td>False</td>\n",
       "      <td>NaN</td>\n",
       "    </tr>\n",
       "    <tr>\n",
       "      <th>15</th>\n",
       "      <td>4.712193</td>\n",
       "      <td>-74.072431</td>\n",
       "      <td>0</td>\n",
       "      <td>100.967780</td>\n",
       "      <td>False</td>\n",
       "      <td>20.0</td>\n",
       "    </tr>\n",
       "    <tr>\n",
       "      <th>16</th>\n",
       "      <td>4.708008</td>\n",
       "      <td>-74.071483</td>\n",
       "      <td>14</td>\n",
       "      <td>NaN</td>\n",
       "      <td>False</td>\n",
       "      <td>NaN</td>\n",
       "    </tr>\n",
       "    <tr>\n",
       "      <th>17</th>\n",
       "      <td>4.699466</td>\n",
       "      <td>-74.070076</td>\n",
       "      <td>15</td>\n",
       "      <td>NaN</td>\n",
       "      <td>False</td>\n",
       "      <td>NaN</td>\n",
       "    </tr>\n",
       "    <tr>\n",
       "      <th>18</th>\n",
       "      <td>4.692812</td>\n",
       "      <td>-74.066828</td>\n",
       "      <td>16</td>\n",
       "      <td>NaN</td>\n",
       "      <td>False</td>\n",
       "      <td>NaN</td>\n",
       "    </tr>\n",
       "    <tr>\n",
       "      <th>19</th>\n",
       "      <td>4.689323</td>\n",
       "      <td>-74.065456</td>\n",
       "      <td>17</td>\n",
       "      <td>NaN</td>\n",
       "      <td>False</td>\n",
       "      <td>NaN</td>\n",
       "    </tr>\n",
       "    <tr>\n",
       "      <th>20</th>\n",
       "      <td>4.689043</td>\n",
       "      <td>-74.064410</td>\n",
       "      <td>3</td>\n",
       "      <td>68.937503</td>\n",
       "      <td>False</td>\n",
       "      <td>40.0</td>\n",
       "    </tr>\n",
       "    <tr>\n",
       "      <th>21</th>\n",
       "      <td>4.685673</td>\n",
       "      <td>-74.051815</td>\n",
       "      <td>18</td>\n",
       "      <td>NaN</td>\n",
       "      <td>False</td>\n",
       "      <td>NaN</td>\n",
       "    </tr>\n",
       "    <tr>\n",
       "      <th>22</th>\n",
       "      <td>4.684665</td>\n",
       "      <td>-74.047972</td>\n",
       "      <td>19</td>\n",
       "      <td>NaN</td>\n",
       "      <td>False</td>\n",
       "      <td>NaN</td>\n",
       "    </tr>\n",
       "    <tr>\n",
       "      <th>23</th>\n",
       "      <td>4.683426</td>\n",
       "      <td>-74.045309</td>\n",
       "      <td>1</td>\n",
       "      <td>8.170983</td>\n",
       "      <td>True</td>\n",
       "      <td>30.0</td>\n",
       "    </tr>\n",
       "    <tr>\n",
       "      <th>24</th>\n",
       "      <td>4.682507</td>\n",
       "      <td>-74.043335</td>\n",
       "      <td>20</td>\n",
       "      <td>NaN</td>\n",
       "      <td>False</td>\n",
       "      <td>NaN</td>\n",
       "    </tr>\n",
       "    <tr>\n",
       "      <th>25</th>\n",
       "      <td>4.681518</td>\n",
       "      <td>-74.041567</td>\n",
       "      <td>21</td>\n",
       "      <td>NaN</td>\n",
       "      <td>False</td>\n",
       "      <td>NaN</td>\n",
       "    </tr>\n",
       "    <tr>\n",
       "      <th>26</th>\n",
       "      <td>4.682777</td>\n",
       "      <td>-74.043082</td>\n",
       "      <td>22</td>\n",
       "      <td>NaN</td>\n",
       "      <td>False</td>\n",
       "      <td>NaN</td>\n",
       "    </tr>\n",
       "    <tr>\n",
       "      <th>27</th>\n",
       "      <td>4.683586</td>\n",
       "      <td>-74.042757</td>\n",
       "      <td>23</td>\n",
       "      <td>NaN</td>\n",
       "      <td>False</td>\n",
       "      <td>NaN</td>\n",
       "    </tr>\n",
       "  </tbody>\n",
       "</table>\n",
       "</div>"
      ],
      "text/plain": [
       "         lat        lon  id        dist  gf_valid  gf_rad\n",
       "0   4.746628 -74.091267   0         NaN     False     NaN\n",
       "1   4.746211 -74.090275   1         NaN     False     NaN\n",
       "2   4.745671 -74.089695   2         NaN     False     NaN\n",
       "3   4.745542 -74.089191   3         NaN     False     NaN\n",
       "4   4.744062 -74.089550   4         NaN     False     NaN\n",
       "5   4.742025 -74.090071   5         NaN     False     NaN\n",
       "6   4.741630 -74.090320   6         NaN     False     NaN\n",
       "7   4.738160 -74.086206   7         NaN     False     NaN\n",
       "8   4.736897 -74.082624   2   21.716464     False    10.0\n",
       "9   4.736856 -74.082507   8         NaN     False     NaN\n",
       "10  4.732738 -74.076824   9         NaN     False     NaN\n",
       "11  4.732351 -74.075308  10         NaN     False     NaN\n",
       "12  4.727883 -74.074776  11         NaN     False     NaN\n",
       "13  4.721602 -74.074857  12         NaN     False     NaN\n",
       "14  4.719085 -74.073991  13         NaN     False     NaN\n",
       "15  4.712193 -74.072431   0  100.967780     False    20.0\n",
       "16  4.708008 -74.071483  14         NaN     False     NaN\n",
       "17  4.699466 -74.070076  15         NaN     False     NaN\n",
       "18  4.692812 -74.066828  16         NaN     False     NaN\n",
       "19  4.689323 -74.065456  17         NaN     False     NaN\n",
       "20  4.689043 -74.064410   3   68.937503     False    40.0\n",
       "21  4.685673 -74.051815  18         NaN     False     NaN\n",
       "22  4.684665 -74.047972  19         NaN     False     NaN\n",
       "23  4.683426 -74.045309   1    8.170983      True    30.0\n",
       "24  4.682507 -74.043335  20         NaN     False     NaN\n",
       "25  4.681518 -74.041567  21         NaN     False     NaN\n",
       "26  4.682777 -74.043082  22         NaN     False     NaN\n",
       "27  4.683586 -74.042757  23         NaN     False     NaN"
      ]
     },
     "metadata": {},
     "output_type": "display_data"
    }
   ],
   "source": [
    "# Todos los procesos se desarrollan sobre un plano cartesiano generado a partir \n",
    "# de las coordenadas gps disponibles. Se toma cómo origen el punto de partida \n",
    "# de la ruta del recorrido\n",
    "\n",
    "# ENTRADAS:\n",
    "df_route = pd.read_csv(\"route2.csv\") # Dataframe de puntos del recorrido\n",
    "df_geofences = pd.read_csv(\"gf_route_2.csv\") # Dataframe de puntos de geocerca\n",
    "\n",
    "# DESARROLLO:\n",
    "df_route['id'] = df_route.index\n",
    "df_geofences['id'] = df_geofences.index\n",
    "origin = df_route.loc[0, [\"lat\", \"lon\"]] # Origen del recorrido\n",
    "df_route = get_axis(df_route, origin) # Coordenadas x,y de la ruta\n",
    "df_geofences = get_axis(df_geofences, origin) # Coordenadas x,y de las geocercas\n",
    "print(\"Ruta:\")\n",
    "display(df_route)\n",
    "print(\"Geocercas:\")\n",
    "display(df_geofences)\n",
    "dist_df = euclidean_dist(df_route, df_geofences)\n",
    "print(\"Distancia entre puntos:\")\n",
    "display(dist_df)\n",
    "min_dist_df = dist_df.idxmin(axis=0).reset_index().rename(columns={\"index\": \"gf_id\", 0: \"r_id\"}) # identificación de distancia mínima\n",
    "# gf_id: id de geocerca\n",
    "# r_id: id de punto de ruta\n",
    "values_within = pd.DataFrame(gf_within_r(min_dist_df, df_route, df_geofences)) # geocercas dentro de ruta\n",
    "min_dist_df = pd.merge(min_dist_df, values_within, left_index=True, right_index=True)\n",
    "min_dist_df = min_dist_df.sort_values(\n",
    "    by=\"order\").reset_index().drop(columns=\"index\") # puntos de ruta en orden ascendente\n",
    "min_dist_df[\"coord_gps_gf\"] = min_dist_df.apply(\n",
    "    lambda x: get_gps_coord(x[\"coord_gps_r\"], x[\"coord_gps_gf\"]), axis=1) # se ajustan la columna \"coord_gps_gf\"\n",
    "print(\"Orden:\")\n",
    "display(min_dist_df)\n",
    "full_route_df = merge_gf(min_dist_df,df_route,df_geofences)\n",
    "print(\"Resultado:\")\n",
    "display(full_route_df)"
   ]
  },
  {
   "cell_type": "code",
   "execution_count": 88,
   "metadata": {},
   "outputs": [
    {
     "data": {
      "application/vnd.plotly.v1+json": {
       "config": {
        "plotlyServerURL": "https://plot.ly"
       },
       "data": [
        {
         "hovertemplate": "is_gf=False<br>lon=%{x}<br>lat=%{y}<extra></extra>",
         "legendgroup": "False",
         "line": {
          "color": "#636efa",
          "dash": "solid"
         },
         "marker": {
          "symbol": "circle"
         },
         "mode": "markers+lines",
         "name": "False",
         "orientation": "v",
         "showlegend": true,
         "type": "scatter",
         "x": [
          -74.091267,
          -74.090275,
          -74.089695,
          -74.089191,
          -74.08955,
          -74.090071,
          -74.09032,
          -74.086206,
          -74.082507,
          -74.076824,
          -74.075308,
          -74.074776,
          -74.074857,
          -74.073991,
          -74.071483,
          -74.070076,
          -74.066828,
          -74.065456,
          -74.051815,
          -74.047972,
          -74.043335,
          -74.041567,
          -74.043082,
          -74.042757
         ],
         "xaxis": "x",
         "y": [
          4.746628,
          4.746211,
          4.745671,
          4.745542,
          4.744062,
          4.742025,
          4.74163,
          4.73816,
          4.736856,
          4.732738,
          4.732351,
          4.727883,
          4.721602,
          4.719085,
          4.708008,
          4.699466,
          4.692812,
          4.689323,
          4.685673,
          4.684665,
          4.682507,
          4.681518,
          4.682777,
          4.683586
         ],
         "yaxis": "y"
        },
        {
         "hovertemplate": "is_gf=True<br>lon=%{x}<br>lat=%{y}<extra></extra>",
         "legendgroup": "True",
         "line": {
          "color": "#EF553B",
          "dash": "solid"
         },
         "marker": {
          "symbol": "circle"
         },
         "mode": "markers+lines",
         "name": "True",
         "orientation": "v",
         "showlegend": true,
         "type": "scatter",
         "x": [
          -74.08262404293468,
          -74.07243050829665,
          -74.06440971180257,
          -74.04530897592754
         ],
         "xaxis": "x",
         "y": [
          4.7368972608777575,
          4.71219282831019,
          4.689043038712659,
          4.683425662939752
         ],
         "yaxis": "y"
        }
       ],
       "layout": {
        "legend": {
         "title": {
          "text": "is_gf"
         },
         "tracegroupgap": 0
        },
        "margin": {
         "t": 60
        },
        "template": {
         "data": {
          "bar": [
           {
            "error_x": {
             "color": "#2a3f5f"
            },
            "error_y": {
             "color": "#2a3f5f"
            },
            "marker": {
             "line": {
              "color": "#E5ECF6",
              "width": 0.5
             },
             "pattern": {
              "fillmode": "overlay",
              "size": 10,
              "solidity": 0.2
             }
            },
            "type": "bar"
           }
          ],
          "barpolar": [
           {
            "marker": {
             "line": {
              "color": "#E5ECF6",
              "width": 0.5
             },
             "pattern": {
              "fillmode": "overlay",
              "size": 10,
              "solidity": 0.2
             }
            },
            "type": "barpolar"
           }
          ],
          "carpet": [
           {
            "aaxis": {
             "endlinecolor": "#2a3f5f",
             "gridcolor": "white",
             "linecolor": "white",
             "minorgridcolor": "white",
             "startlinecolor": "#2a3f5f"
            },
            "baxis": {
             "endlinecolor": "#2a3f5f",
             "gridcolor": "white",
             "linecolor": "white",
             "minorgridcolor": "white",
             "startlinecolor": "#2a3f5f"
            },
            "type": "carpet"
           }
          ],
          "choropleth": [
           {
            "colorbar": {
             "outlinewidth": 0,
             "ticks": ""
            },
            "type": "choropleth"
           }
          ],
          "contour": [
           {
            "colorbar": {
             "outlinewidth": 0,
             "ticks": ""
            },
            "colorscale": [
             [
              0,
              "#0d0887"
             ],
             [
              0.1111111111111111,
              "#46039f"
             ],
             [
              0.2222222222222222,
              "#7201a8"
             ],
             [
              0.3333333333333333,
              "#9c179e"
             ],
             [
              0.4444444444444444,
              "#bd3786"
             ],
             [
              0.5555555555555556,
              "#d8576b"
             ],
             [
              0.6666666666666666,
              "#ed7953"
             ],
             [
              0.7777777777777778,
              "#fb9f3a"
             ],
             [
              0.8888888888888888,
              "#fdca26"
             ],
             [
              1,
              "#f0f921"
             ]
            ],
            "type": "contour"
           }
          ],
          "contourcarpet": [
           {
            "colorbar": {
             "outlinewidth": 0,
             "ticks": ""
            },
            "type": "contourcarpet"
           }
          ],
          "heatmap": [
           {
            "colorbar": {
             "outlinewidth": 0,
             "ticks": ""
            },
            "colorscale": [
             [
              0,
              "#0d0887"
             ],
             [
              0.1111111111111111,
              "#46039f"
             ],
             [
              0.2222222222222222,
              "#7201a8"
             ],
             [
              0.3333333333333333,
              "#9c179e"
             ],
             [
              0.4444444444444444,
              "#bd3786"
             ],
             [
              0.5555555555555556,
              "#d8576b"
             ],
             [
              0.6666666666666666,
              "#ed7953"
             ],
             [
              0.7777777777777778,
              "#fb9f3a"
             ],
             [
              0.8888888888888888,
              "#fdca26"
             ],
             [
              1,
              "#f0f921"
             ]
            ],
            "type": "heatmap"
           }
          ],
          "heatmapgl": [
           {
            "colorbar": {
             "outlinewidth": 0,
             "ticks": ""
            },
            "colorscale": [
             [
              0,
              "#0d0887"
             ],
             [
              0.1111111111111111,
              "#46039f"
             ],
             [
              0.2222222222222222,
              "#7201a8"
             ],
             [
              0.3333333333333333,
              "#9c179e"
             ],
             [
              0.4444444444444444,
              "#bd3786"
             ],
             [
              0.5555555555555556,
              "#d8576b"
             ],
             [
              0.6666666666666666,
              "#ed7953"
             ],
             [
              0.7777777777777778,
              "#fb9f3a"
             ],
             [
              0.8888888888888888,
              "#fdca26"
             ],
             [
              1,
              "#f0f921"
             ]
            ],
            "type": "heatmapgl"
           }
          ],
          "histogram": [
           {
            "marker": {
             "pattern": {
              "fillmode": "overlay",
              "size": 10,
              "solidity": 0.2
             }
            },
            "type": "histogram"
           }
          ],
          "histogram2d": [
           {
            "colorbar": {
             "outlinewidth": 0,
             "ticks": ""
            },
            "colorscale": [
             [
              0,
              "#0d0887"
             ],
             [
              0.1111111111111111,
              "#46039f"
             ],
             [
              0.2222222222222222,
              "#7201a8"
             ],
             [
              0.3333333333333333,
              "#9c179e"
             ],
             [
              0.4444444444444444,
              "#bd3786"
             ],
             [
              0.5555555555555556,
              "#d8576b"
             ],
             [
              0.6666666666666666,
              "#ed7953"
             ],
             [
              0.7777777777777778,
              "#fb9f3a"
             ],
             [
              0.8888888888888888,
              "#fdca26"
             ],
             [
              1,
              "#f0f921"
             ]
            ],
            "type": "histogram2d"
           }
          ],
          "histogram2dcontour": [
           {
            "colorbar": {
             "outlinewidth": 0,
             "ticks": ""
            },
            "colorscale": [
             [
              0,
              "#0d0887"
             ],
             [
              0.1111111111111111,
              "#46039f"
             ],
             [
              0.2222222222222222,
              "#7201a8"
             ],
             [
              0.3333333333333333,
              "#9c179e"
             ],
             [
              0.4444444444444444,
              "#bd3786"
             ],
             [
              0.5555555555555556,
              "#d8576b"
             ],
             [
              0.6666666666666666,
              "#ed7953"
             ],
             [
              0.7777777777777778,
              "#fb9f3a"
             ],
             [
              0.8888888888888888,
              "#fdca26"
             ],
             [
              1,
              "#f0f921"
             ]
            ],
            "type": "histogram2dcontour"
           }
          ],
          "mesh3d": [
           {
            "colorbar": {
             "outlinewidth": 0,
             "ticks": ""
            },
            "type": "mesh3d"
           }
          ],
          "parcoords": [
           {
            "line": {
             "colorbar": {
              "outlinewidth": 0,
              "ticks": ""
             }
            },
            "type": "parcoords"
           }
          ],
          "pie": [
           {
            "automargin": true,
            "type": "pie"
           }
          ],
          "scatter": [
           {
            "fillpattern": {
             "fillmode": "overlay",
             "size": 10,
             "solidity": 0.2
            },
            "type": "scatter"
           }
          ],
          "scatter3d": [
           {
            "line": {
             "colorbar": {
              "outlinewidth": 0,
              "ticks": ""
             }
            },
            "marker": {
             "colorbar": {
              "outlinewidth": 0,
              "ticks": ""
             }
            },
            "type": "scatter3d"
           }
          ],
          "scattercarpet": [
           {
            "marker": {
             "colorbar": {
              "outlinewidth": 0,
              "ticks": ""
             }
            },
            "type": "scattercarpet"
           }
          ],
          "scattergeo": [
           {
            "marker": {
             "colorbar": {
              "outlinewidth": 0,
              "ticks": ""
             }
            },
            "type": "scattergeo"
           }
          ],
          "scattergl": [
           {
            "marker": {
             "colorbar": {
              "outlinewidth": 0,
              "ticks": ""
             }
            },
            "type": "scattergl"
           }
          ],
          "scattermapbox": [
           {
            "marker": {
             "colorbar": {
              "outlinewidth": 0,
              "ticks": ""
             }
            },
            "type": "scattermapbox"
           }
          ],
          "scatterpolar": [
           {
            "marker": {
             "colorbar": {
              "outlinewidth": 0,
              "ticks": ""
             }
            },
            "type": "scatterpolar"
           }
          ],
          "scatterpolargl": [
           {
            "marker": {
             "colorbar": {
              "outlinewidth": 0,
              "ticks": ""
             }
            },
            "type": "scatterpolargl"
           }
          ],
          "scatterternary": [
           {
            "marker": {
             "colorbar": {
              "outlinewidth": 0,
              "ticks": ""
             }
            },
            "type": "scatterternary"
           }
          ],
          "surface": [
           {
            "colorbar": {
             "outlinewidth": 0,
             "ticks": ""
            },
            "colorscale": [
             [
              0,
              "#0d0887"
             ],
             [
              0.1111111111111111,
              "#46039f"
             ],
             [
              0.2222222222222222,
              "#7201a8"
             ],
             [
              0.3333333333333333,
              "#9c179e"
             ],
             [
              0.4444444444444444,
              "#bd3786"
             ],
             [
              0.5555555555555556,
              "#d8576b"
             ],
             [
              0.6666666666666666,
              "#ed7953"
             ],
             [
              0.7777777777777778,
              "#fb9f3a"
             ],
             [
              0.8888888888888888,
              "#fdca26"
             ],
             [
              1,
              "#f0f921"
             ]
            ],
            "type": "surface"
           }
          ],
          "table": [
           {
            "cells": {
             "fill": {
              "color": "#EBF0F8"
             },
             "line": {
              "color": "white"
             }
            },
            "header": {
             "fill": {
              "color": "#C8D4E3"
             },
             "line": {
              "color": "white"
             }
            },
            "type": "table"
           }
          ]
         },
         "layout": {
          "annotationdefaults": {
           "arrowcolor": "#2a3f5f",
           "arrowhead": 0,
           "arrowwidth": 1
          },
          "autotypenumbers": "strict",
          "coloraxis": {
           "colorbar": {
            "outlinewidth": 0,
            "ticks": ""
           }
          },
          "colorscale": {
           "diverging": [
            [
             0,
             "#8e0152"
            ],
            [
             0.1,
             "#c51b7d"
            ],
            [
             0.2,
             "#de77ae"
            ],
            [
             0.3,
             "#f1b6da"
            ],
            [
             0.4,
             "#fde0ef"
            ],
            [
             0.5,
             "#f7f7f7"
            ],
            [
             0.6,
             "#e6f5d0"
            ],
            [
             0.7,
             "#b8e186"
            ],
            [
             0.8,
             "#7fbc41"
            ],
            [
             0.9,
             "#4d9221"
            ],
            [
             1,
             "#276419"
            ]
           ],
           "sequential": [
            [
             0,
             "#0d0887"
            ],
            [
             0.1111111111111111,
             "#46039f"
            ],
            [
             0.2222222222222222,
             "#7201a8"
            ],
            [
             0.3333333333333333,
             "#9c179e"
            ],
            [
             0.4444444444444444,
             "#bd3786"
            ],
            [
             0.5555555555555556,
             "#d8576b"
            ],
            [
             0.6666666666666666,
             "#ed7953"
            ],
            [
             0.7777777777777778,
             "#fb9f3a"
            ],
            [
             0.8888888888888888,
             "#fdca26"
            ],
            [
             1,
             "#f0f921"
            ]
           ],
           "sequentialminus": [
            [
             0,
             "#0d0887"
            ],
            [
             0.1111111111111111,
             "#46039f"
            ],
            [
             0.2222222222222222,
             "#7201a8"
            ],
            [
             0.3333333333333333,
             "#9c179e"
            ],
            [
             0.4444444444444444,
             "#bd3786"
            ],
            [
             0.5555555555555556,
             "#d8576b"
            ],
            [
             0.6666666666666666,
             "#ed7953"
            ],
            [
             0.7777777777777778,
             "#fb9f3a"
            ],
            [
             0.8888888888888888,
             "#fdca26"
            ],
            [
             1,
             "#f0f921"
            ]
           ]
          },
          "colorway": [
           "#636efa",
           "#EF553B",
           "#00cc96",
           "#ab63fa",
           "#FFA15A",
           "#19d3f3",
           "#FF6692",
           "#B6E880",
           "#FF97FF",
           "#FECB52"
          ],
          "font": {
           "color": "#2a3f5f"
          },
          "geo": {
           "bgcolor": "white",
           "lakecolor": "white",
           "landcolor": "#E5ECF6",
           "showlakes": true,
           "showland": true,
           "subunitcolor": "white"
          },
          "hoverlabel": {
           "align": "left"
          },
          "hovermode": "closest",
          "mapbox": {
           "style": "light"
          },
          "paper_bgcolor": "white",
          "plot_bgcolor": "#E5ECF6",
          "polar": {
           "angularaxis": {
            "gridcolor": "white",
            "linecolor": "white",
            "ticks": ""
           },
           "bgcolor": "#E5ECF6",
           "radialaxis": {
            "gridcolor": "white",
            "linecolor": "white",
            "ticks": ""
           }
          },
          "scene": {
           "xaxis": {
            "backgroundcolor": "#E5ECF6",
            "gridcolor": "white",
            "gridwidth": 2,
            "linecolor": "white",
            "showbackground": true,
            "ticks": "",
            "zerolinecolor": "white"
           },
           "yaxis": {
            "backgroundcolor": "#E5ECF6",
            "gridcolor": "white",
            "gridwidth": 2,
            "linecolor": "white",
            "showbackground": true,
            "ticks": "",
            "zerolinecolor": "white"
           },
           "zaxis": {
            "backgroundcolor": "#E5ECF6",
            "gridcolor": "white",
            "gridwidth": 2,
            "linecolor": "white",
            "showbackground": true,
            "ticks": "",
            "zerolinecolor": "white"
           }
          },
          "shapedefaults": {
           "line": {
            "color": "#2a3f5f"
           }
          },
          "ternary": {
           "aaxis": {
            "gridcolor": "white",
            "linecolor": "white",
            "ticks": ""
           },
           "baxis": {
            "gridcolor": "white",
            "linecolor": "white",
            "ticks": ""
           },
           "bgcolor": "#E5ECF6",
           "caxis": {
            "gridcolor": "white",
            "linecolor": "white",
            "ticks": ""
           }
          },
          "title": {
           "x": 0.05
          },
          "xaxis": {
           "automargin": true,
           "gridcolor": "white",
           "linecolor": "white",
           "ticks": "",
           "title": {
            "standoff": 15
           },
           "zerolinecolor": "white",
           "zerolinewidth": 2
          },
          "yaxis": {
           "automargin": true,
           "gridcolor": "white",
           "linecolor": "white",
           "ticks": "",
           "title": {
            "standoff": 15
           },
           "zerolinecolor": "white",
           "zerolinewidth": 2
          }
         }
        },
        "xaxis": {
         "anchor": "y",
         "domain": [
          0,
          1
         ],
         "title": {
          "text": "lon"
         }
        },
        "yaxis": {
         "anchor": "x",
         "domain": [
          0,
          1
         ],
         "scaleanchor": "x",
         "scaleratio": 1,
         "title": {
          "text": "lat"
         }
        }
       }
      }
     },
     "metadata": {},
     "output_type": "display_data"
    }
   ],
   "source": [
    "import plotly.express as px\n",
    "full_route_df[\"is_gf\"] = full_route_df[\"dist\"].notna()\n",
    "fig = px.line(full_route_df, x=\"lon\", y=\"lat\", markers=True, color=\"is_gf\")\n",
    "# fig = px.scatter(full_route_df[full_route_df.is_gf == True], x=\"lon\", y=\"lat\", color=\"is_gf\")\n",
    "fig.update_yaxes(\n",
    "    scaleanchor=\"x\",\n",
    "    scaleratio=1,\n",
    ")\n",
    "fig.show()"
   ]
  },
  {
   "cell_type": "code",
   "execution_count": 74,
   "metadata": {},
   "outputs": [
    {
     "data": {
      "text/html": [
       "<div>\n",
       "<style scoped>\n",
       "    .dataframe tbody tr th:only-of-type {\n",
       "        vertical-align: middle;\n",
       "    }\n",
       "\n",
       "    .dataframe tbody tr th {\n",
       "        vertical-align: top;\n",
       "    }\n",
       "\n",
       "    .dataframe thead th {\n",
       "        text-align: right;\n",
       "    }\n",
       "</style>\n",
       "<table border=\"1\" class=\"dataframe\">\n",
       "  <thead>\n",
       "    <tr style=\"text-align: right;\">\n",
       "      <th></th>\n",
       "      <th>lat</th>\n",
       "      <th>lon</th>\n",
       "    </tr>\n",
       "  </thead>\n",
       "  <tbody>\n",
       "    <tr>\n",
       "      <th>20</th>\n",
       "      <td>4.682507</td>\n",
       "      <td>-74.043335</td>\n",
       "    </tr>\n",
       "    <tr>\n",
       "      <th>21</th>\n",
       "      <td>4.681518</td>\n",
       "      <td>-74.041567</td>\n",
       "    </tr>\n",
       "    <tr>\n",
       "      <th>22</th>\n",
       "      <td>4.682777</td>\n",
       "      <td>-74.043082</td>\n",
       "    </tr>\n",
       "    <tr>\n",
       "      <th>23</th>\n",
       "      <td>4.683586</td>\n",
       "      <td>-74.042757</td>\n",
       "    </tr>\n",
       "  </tbody>\n",
       "</table>\n",
       "</div>"
      ],
      "text/plain": [
       "         lat        lon\n",
       "20  4.682507 -74.043335\n",
       "21  4.681518 -74.041567\n",
       "22  4.682777 -74.043082\n",
       "23  4.683586 -74.042757"
      ]
     },
     "execution_count": 74,
     "metadata": {},
     "output_type": "execute_result"
    }
   ],
   "source": [
    "df_route.loc[lim_inf:lim_sup, ['lat', 'lon']]"
   ]
  },
  {
   "cell_type": "code",
   "execution_count": 79,
   "metadata": {},
   "outputs": [
    {
     "data": {
      "text/html": [
       "<div>\n",
       "<style scoped>\n",
       "    .dataframe tbody tr th:only-of-type {\n",
       "        vertical-align: middle;\n",
       "    }\n",
       "\n",
       "    .dataframe tbody tr th {\n",
       "        vertical-align: top;\n",
       "    }\n",
       "\n",
       "    .dataframe thead th {\n",
       "        text-align: right;\n",
       "    }\n",
       "</style>\n",
       "<table border=\"1\" class=\"dataframe\">\n",
       "  <thead>\n",
       "    <tr style=\"text-align: right;\">\n",
       "      <th></th>\n",
       "      <th>id</th>\n",
       "      <th>lat</th>\n",
       "      <th>lon</th>\n",
       "      <th>x_axis</th>\n",
       "      <th>y_axis</th>\n",
       "    </tr>\n",
       "  </thead>\n",
       "  <tbody>\n",
       "    <tr>\n",
       "      <th>0</th>\n",
       "      <td>0</td>\n",
       "      <td>4.746628</td>\n",
       "      <td>-74.091267</td>\n",
       "      <td>0.000000</td>\n",
       "      <td>0.000000</td>\n",
       "    </tr>\n",
       "    <tr>\n",
       "      <th>1</th>\n",
       "      <td>1</td>\n",
       "      <td>4.746211</td>\n",
       "      <td>-74.090275</td>\n",
       "      <td>109.927061</td>\n",
       "      <td>-46.368284</td>\n",
       "    </tr>\n",
       "    <tr>\n",
       "      <th>2</th>\n",
       "      <td>2</td>\n",
       "      <td>4.745671</td>\n",
       "      <td>-74.089695</td>\n",
       "      <td>174.198932</td>\n",
       "      <td>-106.413545</td>\n",
       "    </tr>\n",
       "    <tr>\n",
       "      <th>3</th>\n",
       "      <td>3</td>\n",
       "      <td>4.745542</td>\n",
       "      <td>-74.089191</td>\n",
       "      <td>230.048971</td>\n",
       "      <td>-120.757690</td>\n",
       "    </tr>\n",
       "    <tr>\n",
       "      <th>4</th>\n",
       "      <td>4</td>\n",
       "      <td>4.744062</td>\n",
       "      <td>-74.089550</td>\n",
       "      <td>190.266899</td>\n",
       "      <td>-285.326182</td>\n",
       "    </tr>\n",
       "    <tr>\n",
       "      <th>5</th>\n",
       "      <td>5</td>\n",
       "      <td>4.742025</td>\n",
       "      <td>-74.090071</td>\n",
       "      <td>132.533029</td>\n",
       "      <td>-511.830247</td>\n",
       "    </tr>\n",
       "    <tr>\n",
       "      <th>6</th>\n",
       "      <td>6</td>\n",
       "      <td>4.741630</td>\n",
       "      <td>-74.090320</td>\n",
       "      <td>104.940450</td>\n",
       "      <td>-555.752243</td>\n",
       "    </tr>\n",
       "    <tr>\n",
       "      <th>7</th>\n",
       "      <td>7</td>\n",
       "      <td>4.738160</td>\n",
       "      <td>-74.086206</td>\n",
       "      <td>560.827476</td>\n",
       "      <td>-941.598639</td>\n",
       "    </tr>\n",
       "    <tr>\n",
       "      <th>8</th>\n",
       "      <td>8</td>\n",
       "      <td>4.736856</td>\n",
       "      <td>-74.082507</td>\n",
       "      <td>970.726870</td>\n",
       "      <td>-1086.596823</td>\n",
       "    </tr>\n",
       "    <tr>\n",
       "      <th>9</th>\n",
       "      <td>9</td>\n",
       "      <td>4.732738</td>\n",
       "      <td>-74.076824</td>\n",
       "      <td>1600.480387</td>\n",
       "      <td>-1544.497531</td>\n",
       "    </tr>\n",
       "    <tr>\n",
       "      <th>10</th>\n",
       "      <td>10</td>\n",
       "      <td>4.732351</td>\n",
       "      <td>-74.075308</td>\n",
       "      <td>1768.473758</td>\n",
       "      <td>-1587.529968</td>\n",
       "    </tr>\n",
       "    <tr>\n",
       "      <th>11</th>\n",
       "      <td>11</td>\n",
       "      <td>4.727883</td>\n",
       "      <td>-74.074776</td>\n",
       "      <td>1827.426577</td>\n",
       "      <td>-2084.348900</td>\n",
       "    </tr>\n",
       "    <tr>\n",
       "      <th>12</th>\n",
       "      <td>12</td>\n",
       "      <td>4.721602</td>\n",
       "      <td>-74.074857</td>\n",
       "      <td>1818.450678</td>\n",
       "      <td>-2782.764234</td>\n",
       "    </tr>\n",
       "    <tr>\n",
       "      <th>13</th>\n",
       "      <td>13</td>\n",
       "      <td>4.719085</td>\n",
       "      <td>-74.073991</td>\n",
       "      <td>1914.415229</td>\n",
       "      <td>-3062.641865</td>\n",
       "    </tr>\n",
       "    <tr>\n",
       "      <th>14</th>\n",
       "      <td>14</td>\n",
       "      <td>4.708008</td>\n",
       "      <td>-74.071483</td>\n",
       "      <td>2192.335662</td>\n",
       "      <td>-4294.348067</td>\n",
       "    </tr>\n",
       "    <tr>\n",
       "      <th>15</th>\n",
       "      <td>15</td>\n",
       "      <td>4.699466</td>\n",
       "      <td>-74.070076</td>\n",
       "      <td>2348.250355</td>\n",
       "      <td>-5244.175130</td>\n",
       "    </tr>\n",
       "    <tr>\n",
       "      <th>16</th>\n",
       "      <td>16</td>\n",
       "      <td>4.692812</td>\n",
       "      <td>-74.066828</td>\n",
       "      <td>2708.172829</td>\n",
       "      <td>-5984.066172</td>\n",
       "    </tr>\n",
       "    <tr>\n",
       "      <th>17</th>\n",
       "      <td>17</td>\n",
       "      <td>4.689323</td>\n",
       "      <td>-74.065456</td>\n",
       "      <td>2860.209046</td>\n",
       "      <td>-6372.025271</td>\n",
       "    </tr>\n",
       "    <tr>\n",
       "      <th>18</th>\n",
       "      <td>18</td>\n",
       "      <td>4.685673</td>\n",
       "      <td>-74.051815</td>\n",
       "      <td>4371.816950</td>\n",
       "      <td>-6777.886754</td>\n",
       "    </tr>\n",
       "    <tr>\n",
       "      <th>19</th>\n",
       "      <td>19</td>\n",
       "      <td>4.684665</td>\n",
       "      <td>-74.047972</td>\n",
       "      <td>4797.673498</td>\n",
       "      <td>-6889.971240</td>\n",
       "    </tr>\n",
       "    <tr>\n",
       "      <th>20</th>\n",
       "      <td>20</td>\n",
       "      <td>4.682507</td>\n",
       "      <td>-74.043335</td>\n",
       "      <td>5311.516020</td>\n",
       "      <td>-7129.929891</td>\n",
       "    </tr>\n",
       "    <tr>\n",
       "      <th>21</th>\n",
       "      <td>21</td>\n",
       "      <td>4.681518</td>\n",
       "      <td>-74.041567</td>\n",
       "      <td>5507.434411</td>\n",
       "      <td>-7239.901674</td>\n",
       "    </tr>\n",
       "    <tr>\n",
       "      <th>22</th>\n",
       "      <td>22</td>\n",
       "      <td>4.682777</td>\n",
       "      <td>-74.043082</td>\n",
       "      <td>5339.551853</td>\n",
       "      <td>-7099.907261</td>\n",
       "    </tr>\n",
       "    <tr>\n",
       "      <th>23</th>\n",
       "      <td>23</td>\n",
       "      <td>4.683586</td>\n",
       "      <td>-74.042757</td>\n",
       "      <td>5375.566263</td>\n",
       "      <td>-7009.950566</td>\n",
       "    </tr>\n",
       "  </tbody>\n",
       "</table>\n",
       "</div>"
      ],
      "text/plain": [
       "    id       lat        lon       x_axis       y_axis\n",
       "0    0  4.746628 -74.091267     0.000000     0.000000\n",
       "1    1  4.746211 -74.090275   109.927061   -46.368284\n",
       "2    2  4.745671 -74.089695   174.198932  -106.413545\n",
       "3    3  4.745542 -74.089191   230.048971  -120.757690\n",
       "4    4  4.744062 -74.089550   190.266899  -285.326182\n",
       "5    5  4.742025 -74.090071   132.533029  -511.830247\n",
       "6    6  4.741630 -74.090320   104.940450  -555.752243\n",
       "7    7  4.738160 -74.086206   560.827476  -941.598639\n",
       "8    8  4.736856 -74.082507   970.726870 -1086.596823\n",
       "9    9  4.732738 -74.076824  1600.480387 -1544.497531\n",
       "10  10  4.732351 -74.075308  1768.473758 -1587.529968\n",
       "11  11  4.727883 -74.074776  1827.426577 -2084.348900\n",
       "12  12  4.721602 -74.074857  1818.450678 -2782.764234\n",
       "13  13  4.719085 -74.073991  1914.415229 -3062.641865\n",
       "14  14  4.708008 -74.071483  2192.335662 -4294.348067\n",
       "15  15  4.699466 -74.070076  2348.250355 -5244.175130\n",
       "16  16  4.692812 -74.066828  2708.172829 -5984.066172\n",
       "17  17  4.689323 -74.065456  2860.209046 -6372.025271\n",
       "18  18  4.685673 -74.051815  4371.816950 -6777.886754\n",
       "19  19  4.684665 -74.047972  4797.673498 -6889.971240\n",
       "20  20  4.682507 -74.043335  5311.516020 -7129.929891\n",
       "21  21  4.681518 -74.041567  5507.434411 -7239.901674\n",
       "22  22  4.682777 -74.043082  5339.551853 -7099.907261\n",
       "23  23  4.683586 -74.042757  5375.566263 -7009.950566"
      ]
     },
     "execution_count": 79,
     "metadata": {},
     "output_type": "execute_result"
    }
   ],
   "source": [
    "df_route.reset_index().rename(columns={\"index\":\"id\"})"
   ]
  },
  {
   "cell_type": "code",
   "execution_count": 83,
   "metadata": {},
   "outputs": [
    {
     "data": {
      "text/html": [
       "<div>\n",
       "<style scoped>\n",
       "    .dataframe tbody tr th:only-of-type {\n",
       "        vertical-align: middle;\n",
       "    }\n",
       "\n",
       "    .dataframe tbody tr th {\n",
       "        vertical-align: top;\n",
       "    }\n",
       "\n",
       "    .dataframe thead th {\n",
       "        text-align: right;\n",
       "    }\n",
       "</style>\n",
       "<table border=\"1\" class=\"dataframe\">\n",
       "  <thead>\n",
       "    <tr style=\"text-align: right;\">\n",
       "      <th></th>\n",
       "      <th>lat</th>\n",
       "      <th>lon</th>\n",
       "      <th>id</th>\n",
       "      <th>x_axis</th>\n",
       "      <th>y_axis</th>\n",
       "    </tr>\n",
       "  </thead>\n",
       "  <tbody>\n",
       "    <tr>\n",
       "      <th>0</th>\n",
       "      <td>4.746628</td>\n",
       "      <td>-74.091267</td>\n",
       "      <td>0</td>\n",
       "      <td>0.000000</td>\n",
       "      <td>0.000000</td>\n",
       "    </tr>\n",
       "    <tr>\n",
       "      <th>1</th>\n",
       "      <td>4.746211</td>\n",
       "      <td>-74.090275</td>\n",
       "      <td>1</td>\n",
       "      <td>109.927061</td>\n",
       "      <td>-46.368284</td>\n",
       "    </tr>\n",
       "    <tr>\n",
       "      <th>2</th>\n",
       "      <td>4.745671</td>\n",
       "      <td>-74.089695</td>\n",
       "      <td>2</td>\n",
       "      <td>174.198932</td>\n",
       "      <td>-106.413545</td>\n",
       "    </tr>\n",
       "    <tr>\n",
       "      <th>3</th>\n",
       "      <td>4.745542</td>\n",
       "      <td>-74.089191</td>\n",
       "      <td>3</td>\n",
       "      <td>230.048971</td>\n",
       "      <td>-120.757690</td>\n",
       "    </tr>\n",
       "    <tr>\n",
       "      <th>4</th>\n",
       "      <td>4.744062</td>\n",
       "      <td>-74.089550</td>\n",
       "      <td>4</td>\n",
       "      <td>190.266899</td>\n",
       "      <td>-285.326182</td>\n",
       "    </tr>\n",
       "    <tr>\n",
       "      <th>5</th>\n",
       "      <td>4.742025</td>\n",
       "      <td>-74.090071</td>\n",
       "      <td>5</td>\n",
       "      <td>132.533029</td>\n",
       "      <td>-511.830247</td>\n",
       "    </tr>\n",
       "    <tr>\n",
       "      <th>6</th>\n",
       "      <td>4.741630</td>\n",
       "      <td>-74.090320</td>\n",
       "      <td>6</td>\n",
       "      <td>104.940450</td>\n",
       "      <td>-555.752243</td>\n",
       "    </tr>\n",
       "    <tr>\n",
       "      <th>7</th>\n",
       "      <td>4.738160</td>\n",
       "      <td>-74.086206</td>\n",
       "      <td>7</td>\n",
       "      <td>560.827476</td>\n",
       "      <td>-941.598639</td>\n",
       "    </tr>\n",
       "    <tr>\n",
       "      <th>8</th>\n",
       "      <td>4.736856</td>\n",
       "      <td>-74.082507</td>\n",
       "      <td>8</td>\n",
       "      <td>970.726870</td>\n",
       "      <td>-1086.596823</td>\n",
       "    </tr>\n",
       "    <tr>\n",
       "      <th>9</th>\n",
       "      <td>4.732738</td>\n",
       "      <td>-74.076824</td>\n",
       "      <td>9</td>\n",
       "      <td>1600.480387</td>\n",
       "      <td>-1544.497531</td>\n",
       "    </tr>\n",
       "    <tr>\n",
       "      <th>10</th>\n",
       "      <td>4.732351</td>\n",
       "      <td>-74.075308</td>\n",
       "      <td>10</td>\n",
       "      <td>1768.473758</td>\n",
       "      <td>-1587.529968</td>\n",
       "    </tr>\n",
       "    <tr>\n",
       "      <th>11</th>\n",
       "      <td>4.727883</td>\n",
       "      <td>-74.074776</td>\n",
       "      <td>11</td>\n",
       "      <td>1827.426577</td>\n",
       "      <td>-2084.348900</td>\n",
       "    </tr>\n",
       "    <tr>\n",
       "      <th>12</th>\n",
       "      <td>4.721602</td>\n",
       "      <td>-74.074857</td>\n",
       "      <td>12</td>\n",
       "      <td>1818.450678</td>\n",
       "      <td>-2782.764234</td>\n",
       "    </tr>\n",
       "    <tr>\n",
       "      <th>13</th>\n",
       "      <td>4.719085</td>\n",
       "      <td>-74.073991</td>\n",
       "      <td>13</td>\n",
       "      <td>1914.415229</td>\n",
       "      <td>-3062.641865</td>\n",
       "    </tr>\n",
       "    <tr>\n",
       "      <th>14</th>\n",
       "      <td>4.708008</td>\n",
       "      <td>-74.071483</td>\n",
       "      <td>14</td>\n",
       "      <td>2192.335662</td>\n",
       "      <td>-4294.348067</td>\n",
       "    </tr>\n",
       "    <tr>\n",
       "      <th>15</th>\n",
       "      <td>4.699466</td>\n",
       "      <td>-74.070076</td>\n",
       "      <td>15</td>\n",
       "      <td>2348.250355</td>\n",
       "      <td>-5244.175130</td>\n",
       "    </tr>\n",
       "    <tr>\n",
       "      <th>16</th>\n",
       "      <td>4.692812</td>\n",
       "      <td>-74.066828</td>\n",
       "      <td>16</td>\n",
       "      <td>2708.172829</td>\n",
       "      <td>-5984.066172</td>\n",
       "    </tr>\n",
       "    <tr>\n",
       "      <th>17</th>\n",
       "      <td>4.689323</td>\n",
       "      <td>-74.065456</td>\n",
       "      <td>17</td>\n",
       "      <td>2860.209046</td>\n",
       "      <td>-6372.025271</td>\n",
       "    </tr>\n",
       "    <tr>\n",
       "      <th>18</th>\n",
       "      <td>4.685673</td>\n",
       "      <td>-74.051815</td>\n",
       "      <td>18</td>\n",
       "      <td>4371.816950</td>\n",
       "      <td>-6777.886754</td>\n",
       "    </tr>\n",
       "    <tr>\n",
       "      <th>19</th>\n",
       "      <td>4.684665</td>\n",
       "      <td>-74.047972</td>\n",
       "      <td>19</td>\n",
       "      <td>4797.673498</td>\n",
       "      <td>-6889.971240</td>\n",
       "    </tr>\n",
       "    <tr>\n",
       "      <th>20</th>\n",
       "      <td>4.682507</td>\n",
       "      <td>-74.043335</td>\n",
       "      <td>20</td>\n",
       "      <td>5311.516020</td>\n",
       "      <td>-7129.929891</td>\n",
       "    </tr>\n",
       "    <tr>\n",
       "      <th>21</th>\n",
       "      <td>4.681518</td>\n",
       "      <td>-74.041567</td>\n",
       "      <td>21</td>\n",
       "      <td>5507.434411</td>\n",
       "      <td>-7239.901674</td>\n",
       "    </tr>\n",
       "    <tr>\n",
       "      <th>22</th>\n",
       "      <td>4.682777</td>\n",
       "      <td>-74.043082</td>\n",
       "      <td>22</td>\n",
       "      <td>5339.551853</td>\n",
       "      <td>-7099.907261</td>\n",
       "    </tr>\n",
       "    <tr>\n",
       "      <th>23</th>\n",
       "      <td>4.683586</td>\n",
       "      <td>-74.042757</td>\n",
       "      <td>23</td>\n",
       "      <td>5375.566263</td>\n",
       "      <td>-7009.950566</td>\n",
       "    </tr>\n",
       "  </tbody>\n",
       "</table>\n",
       "</div>"
      ],
      "text/plain": [
       "         lat        lon  id       x_axis       y_axis\n",
       "0   4.746628 -74.091267   0     0.000000     0.000000\n",
       "1   4.746211 -74.090275   1   109.927061   -46.368284\n",
       "2   4.745671 -74.089695   2   174.198932  -106.413545\n",
       "3   4.745542 -74.089191   3   230.048971  -120.757690\n",
       "4   4.744062 -74.089550   4   190.266899  -285.326182\n",
       "5   4.742025 -74.090071   5   132.533029  -511.830247\n",
       "6   4.741630 -74.090320   6   104.940450  -555.752243\n",
       "7   4.738160 -74.086206   7   560.827476  -941.598639\n",
       "8   4.736856 -74.082507   8   970.726870 -1086.596823\n",
       "9   4.732738 -74.076824   9  1600.480387 -1544.497531\n",
       "10  4.732351 -74.075308  10  1768.473758 -1587.529968\n",
       "11  4.727883 -74.074776  11  1827.426577 -2084.348900\n",
       "12  4.721602 -74.074857  12  1818.450678 -2782.764234\n",
       "13  4.719085 -74.073991  13  1914.415229 -3062.641865\n",
       "14  4.708008 -74.071483  14  2192.335662 -4294.348067\n",
       "15  4.699466 -74.070076  15  2348.250355 -5244.175130\n",
       "16  4.692812 -74.066828  16  2708.172829 -5984.066172\n",
       "17  4.689323 -74.065456  17  2860.209046 -6372.025271\n",
       "18  4.685673 -74.051815  18  4371.816950 -6777.886754\n",
       "19  4.684665 -74.047972  19  4797.673498 -6889.971240\n",
       "20  4.682507 -74.043335  20  5311.516020 -7129.929891\n",
       "21  4.681518 -74.041567  21  5507.434411 -7239.901674\n",
       "22  4.682777 -74.043082  22  5339.551853 -7099.907261\n",
       "23  4.683586 -74.042757  23  5375.566263 -7009.950566"
      ]
     },
     "execution_count": 83,
     "metadata": {},
     "output_type": "execute_result"
    }
   ],
   "source": [
    "df_route"
   ]
  }
 ],
 "metadata": {
  "kernelspec": {
   "display_name": "Python 3.10.6 64-bit",
   "language": "python",
   "name": "python3"
  },
  "language_info": {
   "codemirror_mode": {
    "name": "ipython",
    "version": 3
   },
   "file_extension": ".py",
   "mimetype": "text/x-python",
   "name": "python",
   "nbconvert_exporter": "python",
   "pygments_lexer": "ipython3",
   "version": "3.10.6"
  },
  "orig_nbformat": 4,
  "vscode": {
   "interpreter": {
    "hash": "d5d346de930565e887cf2a64d19b0d9c71307baa143dc15de2a2f0c0d2620b80"
   }
  }
 },
 "nbformat": 4,
 "nbformat_minor": 2
}
